{
  "nbformat": 4,
  "nbformat_minor": 0,
  "metadata": {
    "colab": {
      "name": "CATP - Nicolau Alff.ipynb",
      "provenance": [],
      "collapsed_sections": [
        "njkSfyhC1xFv"
      ],
      "toc_visible": true,
      "include_colab_link": true
    },
    "kernelspec": {
      "name": "python3",
      "display_name": "Python 3"
    }
  },
  "cells": [
    {
      "cell_type": "markdown",
      "metadata": {
        "id": "view-in-github",
        "colab_type": "text"
      },
      "source": [
        "<a href=\"https://colab.research.google.com/github/npalff/mlp-2020/blob/main/CATP_Nicolau_Alff.ipynb\" target=\"_parent\"><img src=\"https://colab.research.google.com/assets/colab-badge.svg\" alt=\"Open In Colab\"/></a>"
      ]
    },
    {
      "cell_type": "markdown",
      "metadata": {
        "id": "CiVKGaiJlc9f"
      },
      "source": [
        "# **CATP (laboratorio de LP de tipagem dinamica)**"
      ]
    },
    {
      "cell_type": "markdown",
      "metadata": {
        "id": "dT_YyVcd1eJA"
      },
      "source": [
        "Nicolau Pereira Alff - 00243667"
      ]
    },
    {
      "cell_type": "markdown",
      "metadata": {
        "id": "lhS1gkSbz1gr"
      },
      "source": [
        "## **Tarefa I**"
      ]
    },
    {
      "cell_type": "markdown",
      "metadata": {
        "id": "aMS0J_iYnTlP"
      },
      "source": [
        "### **Aquecimento**\n",
        "\n",
        "O **trecho de codigo a seguir** demonstra a definicao (simplificada) e o uso de uma classe em Python 3.0. O exemplo **envolve a classe Pessoa**, desenvolvida nos laboratorios anteriores (de LPs com tipagem estática). **Analise-a e contraste-a com a classe feita anteriormente (com linguagem de tipagem estática)**.\n",
        "\n",
        "**Para executar o codigo eh necessario selecionar a célula que o contém e utilizar o botao \"play\". Você tambem pode mandar executar todas as células de uma unica vez, escolhendo a opcao \"Executar tudo\" no menu \"Ambiente de Execução\".**"
      ]
    },
    {
      "cell_type": "code",
      "metadata": {
        "id": "aJbO5KLMlniF",
        "outputId": "6b7f6fca-c7ca-4344-f952-4d5383baa237",
        "colab": {
          "base_uri": "https://localhost:8080/"
        }
      },
      "source": [
        "class Pessoa:\n",
        "    def __init__(self): # Construtor\n",
        "        # o parametro 'self' eh o nome que Python da ao atributo 'this' de C++ ou Java \n",
        "        # (i.e., refere-se `a  propria instancia).\n",
        "        # Perceba que self eh declarado em todos os metodos, mas nao eh passado \n",
        "        # explicitamente na chamada (ver programa principal). Como em C++, Java e outras LPs, \n",
        "        # ele eh passado automaticamente como parametro para todos os metodos de classe. \n",
        "        # Assim, o metodo sabe qual instancia ele deve manipular... \n",
        "        self.set_idade(0)\n",
        "        self.set_nome('Indefinido')\n",
        "        self.set_sexo('I')\n",
        "\n",
        "    def set_nome(self, nome):\n",
        "        self.__nome = nome   # o atributo inicia com '__' para 'esconde-lo' \n",
        "\n",
        "    def set_idade(self, idade):\n",
        "        self.__idade = idade\n",
        "\n",
        "    def set_sexo(self, sexo):\n",
        "        if (sexo == 'I' or sexo == 'i'):\n",
        "            self.__sexo = 'I'\n",
        "        elif (sexo == 'M' or sexo == 'm'):\n",
        "            self.__sexo = 'M'\n",
        "        elif (sexo == 'F' or sexo == 'f'):\n",
        "            self.__sexo = 'F'\n",
        "\n",
        "    def get_nome(self):\n",
        "        return self.__nome\n",
        "\n",
        "    def get_idade(self):\n",
        "        return self.__idade\n",
        "\n",
        "    def get_sexo(self):\n",
        "        return self.__sexo\n",
        "\n",
        "# definicao da funcao principal do programa (o nome dela nao precisa ser main)\n",
        "def main():\n",
        "    p1 = Pessoa() # cria, instancia uma pessoa\n",
        "    p2 = Pessoa() # outra pessoa\n",
        "\n",
        "    p2.set_idade(21)\n",
        "    p2.set_nome(\"Adriana\")\n",
        "    p2.set_sexo('F')\n",
        "    \n",
        "    print(\"Resultado da execucao:\")\n",
        "\n",
        "    print(\"p1: Nome: \" + p1.get_nome() + \" | Idade: \" + str(p1.get_idade()) + \" | Sexo: \" + p1.get_sexo())\n",
        "    print(\"p2: Nome: \" + p2.get_nome() + \" | Idade: \" + str(p2.get_idade()) + \" | Sexo: \" + p2.get_sexo()) \n",
        "    \n",
        "# executa a funcao principal do programa\n",
        "if (__name__ == \"__main__\"):    # o programa inicia a execucao aqui\n",
        "      main()                    # chama a funcao main (poderia ter outro nome)"
      ],
      "execution_count": 1,
      "outputs": [
        {
          "output_type": "stream",
          "text": [
            "Resultado da execucao:\n",
            "p1: Nome: Indefinido | Idade: 0 | Sexo: I\n",
            "p2: Nome: Adriana | Idade: 21 | Sexo: F\n"
          ],
          "name": "stdout"
        }
      ]
    },
    {
      "cell_type": "markdown",
      "metadata": {
        "id": "tF1Ult1cl0bf"
      },
      "source": [
        "### **Herança**\n",
        "\n",
        "**O trecho de codigo seguinte** demonstra a definicao e o uso de uma classe filha de Pessoa, por heranca:\n",
        "\n"
      ]
    },
    {
      "cell_type": "code",
      "metadata": {
        "id": "aqqPZA-2mWtu",
        "outputId": "1f14a032-6485-46a1-d6de-98bfbd8ebb2d",
        "colab": {
          "base_uri": "https://localhost:8080/",
          "height": 68
        }
      },
      "source": [
        "from enum import Enum\n",
        "\n",
        "class NivelAlunos(Enum):\n",
        "    INDEFINIDO = 0\n",
        "    FUNDAMENTAL = 1\n",
        "    MEDIO = 2\n",
        "    GRADUACAO = 3\n",
        "    MESTRADO = 4\n",
        "    DOUTORADO = 5\n",
        "    \n",
        "    # ToString de Python (chamado pela função str())\n",
        "    def __str__(self):\n",
        "        return self.name\n",
        "    \n",
        "class Aluno(Pessoa):\n",
        "    # Construtor com valores default:\n",
        "    def __init__(self, nome='Indefinido', sexo='I', idade=0, matricula='Indefinida', \n",
        "                 nivel=NivelAlunos.INDEFINIDO):        \n",
        "        # Pessoa.__init__(self)      # chama construtor da classe pai (nao eh necessario)\n",
        "        self.set_nome(nome)\n",
        "        self.set_idade(idade)\n",
        "        self.set_sexo(sexo)\n",
        "        self.matricula = matricula # propriedade (ver abaixo)\n",
        "        self.nivel = nivel         # propriedade (ver abaixo)\n",
        "        \n",
        "    def __str__(self):\n",
        "        string_resultante = \"Aluno [Nome: \" + self.get_nome() + \\\n",
        "        \", Idade: \" + str(self.get_idade()) + \\\n",
        "        \", Gênero: \" + self.get_sexo() + \\\n",
        "        \", Matrícula: \" + self.matricula + \\\n",
        "        \", Nível: \" + str(self.nivel) + \"]\"\n",
        "        \n",
        "        return string_resultante \n",
        "                   \n",
        "    @property                    # permite que o atributo seja visto do lado de fora, como uma propriedade \n",
        "    def matricula(self):         # propriedades chamam implicitamente o metodo (como um 'getter')  \n",
        "        return self.__matricula  # veja no main que a propriedade eh acessada como se fosse um atributo normal! \n",
        "\n",
        "    @matricula.setter\n",
        "    def matricula(self, matricula):   # define um metodo 'getter' para a propriedade \n",
        "        self.__matricula = matricula  # poderia ter um codigo de validacao...      \n",
        "    \n",
        "    @property\n",
        "    def nivel(self):\n",
        "        return self.__nivel\n",
        "       \n",
        "    @nivel.setter\n",
        "    def nivel(self, nivel):\n",
        "        self.__nivel = nivel\n",
        "             \n",
        "def main():\n",
        "    a1 = Aluno() \n",
        "    \n",
        "    print(\"Resultado da execucao:\")\n",
        "    \n",
        "    print(\"a1: Nome: \" + a1.get_nome() + \n",
        "          \" | Idade: \" + str(a1.get_idade()) + \n",
        "          \" | Sexo: \" + a1.get_sexo() + \n",
        "          \" | Matricula: \" + a1.matricula + \n",
        "          \" | Nivel: \" + str(a1.nivel))\n",
        "            \n",
        "    a1.set_idade(22)\n",
        "    a1.set_nome(\"Carlos\")\n",
        "    a1.set_sexo('M')\n",
        "    a1.matricula = '11111111'       # usa a propriedade como se fosse um atributo (por tras dos panos, chama o metodo)\n",
        "    a1.nivel = NivelAlunos.GRADUACAO # idem\n",
        "\n",
        "    print(a1)\n",
        "    \n",
        "    \n",
        "# o comando seguinte eh o que efetivamente inicia o programa\n",
        "if (__name__ == \"__main__\"):    \n",
        "      main()"
      ],
      "execution_count": null,
      "outputs": [
        {
          "output_type": "stream",
          "text": [
            "Resultado da execucao:\n",
            "a1: Nome: Indefinido | Idade: 0 | Sexo: I | Matricula: Indefinida | Nivel: INDEFINIDO\n",
            "Aluno [Nome: Carlos, Idade: 22, Gênero: M, Matrícula: 11111111, Nível: GRADUACAO]\n"
          ],
          "name": "stdout"
        }
      ]
    },
    {
      "cell_type": "markdown",
      "metadata": {
        "id": "fyjyo7rEmiKn"
      },
      "source": [
        "### **Atividade (da Tarefa I)**\n",
        "\n",
        "**Atenção**: após fazer um clone desse notebook, crie um novo bloco de notas ou use as celulas abaixo para inserir sua solucao. Ao terminar, encaminhe o notebook resultante via tarefa no Moodle.\n",
        "\n",
        "Como fizemos nos laboratorios de OO com linguagens de tipagem estatica, **defina uma classe 'Funcionario', filha de Pessoa**.\n",
        "\n",
        "A classe **Funcionario deve possuir os seguintes atributos (alem dos herdados de Pessoa), protegidos dentro do possivel usando propriedades**:\n",
        "\n",
        "1. 'categoria', a ser escolhida entre a seguinte lista de possibilidades: INDEFINIDA, PROGRAMADOR, ANALISTA e GERENTE. Descobra como definir uma enumeracao em Python e use-a para este atributo;\n",
        "2. 'ingresso', que armazena o ano de ingresso do funcionario na empresa ou organizacao. O atributo deve ser validado de maneira que o funcionaio nao possa ingressar depois da data atual. Descubra como armazenar datas em Python ou armazene somente o ano de ingresso.\n",
        "\n",
        "Consultando o material complementar (ver Moodle), **descobra como definir um Array ou um Dicionario em Python, e use-o para armazenar 5 Funcionarios com dados ficticeos (se possivel, tente adicionar entidades diferentes, sorteadas aleatoriamente entre alunos, pessoas e funcionarios). Depois, usando algum comando de repeticao, mostre o conteudo dos alunos alocados no array (alunos)**."
      ]
    },
    {
      "cell_type": "markdown",
      "metadata": {
        "id": "9TjMGkZgzQB8"
      },
      "source": [
        "\n",
        "## **Tarefa II**"
      ]
    },
    {
      "cell_type": "markdown",
      "metadata": {
        "id": "IYbYXVAm0FCr"
      },
      "source": [
        "### **Aquecimento**\n",
        "\n",
        "O **trecho de código a seguir** abre um arquivo CSV disponibilizado pelo professor no seu espaço pessoal no GitHub usando a biblioteca pandas (ver http://pandas.pydata.org/ para detalhes).\n",
        "\n",
        "O arquivo contém um trecho dos dados do ENADE de 2014.\n",
        "\n",
        "Os **dados originais** podem ser obtidos em: http://dados.gov.br/dataset/microdados-do-exame-nacional-de-desempenho-de-estudantes-enade\n",
        "\n",
        "Em especial, para este exemplo, foram obtidos os dados de 2014: http://download.inep.gov.br/microdados/Enade_Microdados/microdados_enade_2014.zip\n",
        "\n",
        "Eles foram coletados, extraídos e disponibilizados na UR especificada no próprio código. Execute-o e perceba que **é muito simples coletar dados disponibilizados na Web**!\n",
        "\n",
        "**Lembre-se de que para executar um codigo eh necessario selecionar a celula que o contem e utilizar o botao \"play\" no menu superior. Voce tambem pode mandar executar todas as celulas de uma unica vez escolhendo a opcao \"Run all\" no menu \"Cell\".**"
      ]
    },
    {
      "cell_type": "code",
      "metadata": {
        "id": "wOtA_reG00K8",
        "outputId": "9ea9b09f-ed69-4a02-8627-cf5fa679fbbf",
        "colab": {
          "base_uri": "https://localhost:8080/",
          "height": 51
        }
      },
      "source": [
        "import pandas as pd\n",
        "import zipfile\n",
        "import requests\n",
        "import io\n",
        "\n",
        "filename = '2014.csv'\n",
        "uri = 'http://raw.githubusercontent.com/lwives/mlp/master/' + filename\n",
        "\n",
        "print(\"Pegando o conteúdo do arquivo: \", uri)    \n",
        "content = requests.get(uri).content\n",
        "\n",
        "print('Arquivo lido!')"
      ],
      "execution_count": null,
      "outputs": [
        {
          "output_type": "stream",
          "text": [
            "Pegando o conteúdo do arquivo:  http://raw.githubusercontent.com/lwives/mlp/master/2014.csv\n",
            "Arquivo lido!\n"
          ],
          "name": "stdout"
        }
      ]
    },
    {
      "cell_type": "code",
      "metadata": {
        "id": "j6Xt6yoD02iz"
      },
      "source": [
        "# se desejar ver o conteúdo do arquivo lido, descomente a linha seguinte e execute a célula\n",
        "\n",
        "# print(content.decode('utf-8'))"
      ],
      "execution_count": null,
      "outputs": []
    },
    {
      "cell_type": "markdown",
      "metadata": {
        "id": "IWsh5oc24DiL"
      },
      "source": [
        "**O trecho seguinte complementa o anterior, transformando os dados coletados em uma representação interna (dataframe), para que possam ser manipulados**:\n",
        "\n"
      ]
    },
    {
      "cell_type": "code",
      "metadata": {
        "id": "WTIc1MJX4BbI"
      },
      "source": [
        "df = pd.read_csv(io.StringIO(content.decode('utf-8')))\n",
        "\n",
        "# Detalhes sobre funcionamento do pandas.read_csv em:\n",
        "# http://pandas.pydata.org/pandas-docs/stable/io.html#io-read-csv-table \n",
        "df = pd.read_csv(uri, sep=\";\")"
      ],
      "execution_count": null,
      "outputs": []
    },
    {
      "cell_type": "markdown",
      "metadata": {
        "id": "b0BemTnC039h"
      },
      "source": [
        "**O trecho seguinte mostra algumas informações do arquivo lido (colunas/atributos)**:\n",
        "\n"
      ]
    },
    {
      "cell_type": "code",
      "metadata": {
        "id": "1uQJR32s09Iy",
        "outputId": "5472719c-0012-46b0-f64e-db364c44d811",
        "colab": {
          "base_uri": "https://localhost:8080/",
          "height": 782
        }
      },
      "source": [
        "print(\"Attributes found:\", df.columns.values) # mostra as colunas (atributos) que foram identificadas e lidas do arquivo\n",
        "\n",
        "print(\"\\n Attributes and types:\\n\", df.dtypes) # mostra atributos lidos e respectivos tipos identificados\n",
        "\n",
        "print(\"\\nNumber of Elements and attributes read:\", df.shape) # mostra dimensões dos dados lidos"
      ],
      "execution_count": null,
      "outputs": [
        {
          "output_type": "stream",
          "text": [
            "Attributes found: ['nu_ano' 'co_ies' 'co_uf_curso' 'nu_idade' 'tp_sexo' 'ano_fim_2g'\n",
            " 'ano_in_grad' 'tp_pres' 'tp_pr_ger' 'tp_pr_ob_fg' 'tp_pr_di_fg'\n",
            " 'tp_pr_ob_ce' 'tp_pr_di_ce' 'tp_sfg_d1' 'tp_sfg_d2' 'tp_sce_d1'\n",
            " 'tp_sce_d2' 'tp_sce_d3' 'nt_obj_fg' 'nt_fg_d1_pt' 'nt_fg_d1_ct'\n",
            " 'nt_fg_d1' 'nt_fg_d2_pt' 'nt_fg_d2_ct' 'nt_fg_d2' 'nt_dis_fg' 'nt_fg'\n",
            " 'nt_obj_ce' 'nt_ce_d1' 'nt_ce_d2' 'nt_ce_d3' 'nt_dis_ce' 'nt_ce' 'nt_ger']\n",
            "\n",
            " Attributes and types:\n",
            " nu_ano           int64\n",
            "co_ies           int64\n",
            "co_uf_curso      int64\n",
            "nu_idade         int64\n",
            "tp_sexo         object\n",
            "ano_fim_2g       int64\n",
            "ano_in_grad      int64\n",
            "tp_pres          int64\n",
            "tp_pr_ger        int64\n",
            "tp_pr_ob_fg      int64\n",
            "tp_pr_di_fg      int64\n",
            "tp_pr_ob_ce      int64\n",
            "tp_pr_di_ce      int64\n",
            "tp_sfg_d1        int64\n",
            "tp_sfg_d2        int64\n",
            "tp_sce_d1        int64\n",
            "tp_sce_d2        int64\n",
            "tp_sce_d3        int64\n",
            "nt_obj_fg      float64\n",
            "nt_fg_d1_pt      int64\n",
            "nt_fg_d1_ct      int64\n",
            "nt_fg_d1         int64\n",
            "nt_fg_d2_pt      int64\n",
            "nt_fg_d2_ct      int64\n",
            "nt_fg_d2         int64\n",
            "nt_dis_fg      float64\n",
            "nt_fg          float64\n",
            "nt_obj_ce      float64\n",
            "nt_ce_d1         int64\n",
            "nt_ce_d2         int64\n",
            "nt_ce_d3         int64\n",
            "nt_dis_ce      float64\n",
            "nt_ce          float64\n",
            "nt_ger         float64\n",
            "dtype: object\n",
            "\n",
            "Number of Elements and attributes read: (191, 34)\n"
          ],
          "name": "stdout"
        }
      ]
    },
    {
      "cell_type": "markdown",
      "metadata": {
        "id": "sHR2d00m0_hl"
      },
      "source": [
        "**A definição de o que significa cada coluna está disponível no portal do INEP (mais especificamente em uma subpasta dentro do arquivo disponível em http://download.inep.gov.br/microdados/Enade_Microdados/microdados_enade_2014.zip).**\n",
        "\n",
        "**O trecho seguinte mostra um sumário estatístico do arquivo:**"
      ]
    },
    {
      "cell_type": "code",
      "metadata": {
        "id": "FkJSF43w1FFA",
        "outputId": "63a94721-6012-4610-f0f0-d9699fcd6a73",
        "colab": {
          "base_uri": "https://localhost:8080/",
          "height": 153
        }
      },
      "source": [
        "# mostra primeiros 5 registros lidos do arquivo\n",
        "print(df.head())\n",
        "\n",
        "# print(df) # mostra todos os dados lidos"
      ],
      "execution_count": null,
      "outputs": [
        {
          "output_type": "stream",
          "text": [
            "   nu_ano  co_ies  co_uf_curso  nu_idade  ... nt_ce_d3  nt_dis_ce  nt_ce  nt_ger\n",
            "0    2014       1           51        23  ...       20       40.0   66.7    66.9\n",
            "1    2014       1           51        24  ...        0        6.7   57.7    52.7\n",
            "2    2014       1           51        22  ...        0       26.7   52.5    58.2\n",
            "3    2014       1           51        24  ...       10       20.0   55.6    62.0\n",
            "4    2014       1           51        23  ...       10       10.0   66.3    71.5\n",
            "\n",
            "[5 rows x 34 columns]\n"
          ],
          "name": "stdout"
        }
      ]
    },
    {
      "cell_type": "code",
      "metadata": {
        "id": "OfLrnDVr1JT6",
        "outputId": "cf88e78b-be89-4945-c616-4fd4055e0739",
        "colab": {
          "base_uri": "https://localhost:8080/",
          "height": 317
        }
      },
      "source": [
        "df.describe()\n"
      ],
      "execution_count": null,
      "outputs": [
        {
          "output_type": "execute_result",
          "data": {
            "text/html": [
              "<div>\n",
              "<style scoped>\n",
              "    .dataframe tbody tr th:only-of-type {\n",
              "        vertical-align: middle;\n",
              "    }\n",
              "\n",
              "    .dataframe tbody tr th {\n",
              "        vertical-align: top;\n",
              "    }\n",
              "\n",
              "    .dataframe thead th {\n",
              "        text-align: right;\n",
              "    }\n",
              "</style>\n",
              "<table border=\"1\" class=\"dataframe\">\n",
              "  <thead>\n",
              "    <tr style=\"text-align: right;\">\n",
              "      <th></th>\n",
              "      <th>nu_ano</th>\n",
              "      <th>co_ies</th>\n",
              "      <th>co_uf_curso</th>\n",
              "      <th>nu_idade</th>\n",
              "      <th>ano_fim_2g</th>\n",
              "      <th>ano_in_grad</th>\n",
              "      <th>tp_pres</th>\n",
              "      <th>tp_pr_ger</th>\n",
              "      <th>tp_pr_ob_fg</th>\n",
              "      <th>tp_pr_di_fg</th>\n",
              "      <th>tp_pr_ob_ce</th>\n",
              "      <th>tp_pr_di_ce</th>\n",
              "      <th>tp_sfg_d1</th>\n",
              "      <th>tp_sfg_d2</th>\n",
              "      <th>tp_sce_d1</th>\n",
              "      <th>tp_sce_d2</th>\n",
              "      <th>tp_sce_d3</th>\n",
              "      <th>nt_obj_fg</th>\n",
              "      <th>nt_fg_d1_pt</th>\n",
              "      <th>nt_fg_d1_ct</th>\n",
              "      <th>nt_fg_d1</th>\n",
              "      <th>nt_fg_d2_pt</th>\n",
              "      <th>nt_fg_d2_ct</th>\n",
              "      <th>nt_fg_d2</th>\n",
              "      <th>nt_dis_fg</th>\n",
              "      <th>nt_fg</th>\n",
              "      <th>nt_obj_ce</th>\n",
              "      <th>nt_ce_d1</th>\n",
              "      <th>nt_ce_d2</th>\n",
              "      <th>nt_ce_d3</th>\n",
              "      <th>nt_dis_ce</th>\n",
              "      <th>nt_ce</th>\n",
              "      <th>nt_ger</th>\n",
              "    </tr>\n",
              "  </thead>\n",
              "  <tbody>\n",
              "    <tr>\n",
              "      <th>count</th>\n",
              "      <td>191.0</td>\n",
              "      <td>191.000000</td>\n",
              "      <td>191.000000</td>\n",
              "      <td>191.000000</td>\n",
              "      <td>191.000000</td>\n",
              "      <td>191.000000</td>\n",
              "      <td>191.0</td>\n",
              "      <td>191.0</td>\n",
              "      <td>191.0</td>\n",
              "      <td>191.000000</td>\n",
              "      <td>191.0</td>\n",
              "      <td>191.000000</td>\n",
              "      <td>191.000000</td>\n",
              "      <td>191.000000</td>\n",
              "      <td>191.000000</td>\n",
              "      <td>191.000000</td>\n",
              "      <td>191.000000</td>\n",
              "      <td>191.000000</td>\n",
              "      <td>191.000000</td>\n",
              "      <td>191.000000</td>\n",
              "      <td>191.000000</td>\n",
              "      <td>191.000000</td>\n",
              "      <td>191.000000</td>\n",
              "      <td>191.000000</td>\n",
              "      <td>191.000000</td>\n",
              "      <td>191.000000</td>\n",
              "      <td>191.000000</td>\n",
              "      <td>191.000000</td>\n",
              "      <td>191.000000</td>\n",
              "      <td>191.000000</td>\n",
              "      <td>191.000000</td>\n",
              "      <td>191.000000</td>\n",
              "      <td>191.000000</td>\n",
              "    </tr>\n",
              "    <tr>\n",
              "      <th>mean</th>\n",
              "      <td>2014.0</td>\n",
              "      <td>2.068063</td>\n",
              "      <td>46.167539</td>\n",
              "      <td>24.246073</td>\n",
              "      <td>2007.073298</td>\n",
              "      <td>2009.376963</td>\n",
              "      <td>555.0</td>\n",
              "      <td>555.0</td>\n",
              "      <td>555.0</td>\n",
              "      <td>518.968586</td>\n",
              "      <td>555.0</td>\n",
              "      <td>502.696335</td>\n",
              "      <td>517.806283</td>\n",
              "      <td>488.764398</td>\n",
              "      <td>449.324607</td>\n",
              "      <td>488.780105</td>\n",
              "      <td>456.204188</td>\n",
              "      <td>69.306283</td>\n",
              "      <td>58.717277</td>\n",
              "      <td>58.455497</td>\n",
              "      <td>58.507853</td>\n",
              "      <td>48.717277</td>\n",
              "      <td>46.832461</td>\n",
              "      <td>47.157068</td>\n",
              "      <td>52.832461</td>\n",
              "      <td>62.716754</td>\n",
              "      <td>57.665445</td>\n",
              "      <td>21.596859</td>\n",
              "      <td>23.115183</td>\n",
              "      <td>8.324607</td>\n",
              "      <td>17.681675</td>\n",
              "      <td>51.663874</td>\n",
              "      <td>54.438743</td>\n",
              "    </tr>\n",
              "    <tr>\n",
              "      <th>std</th>\n",
              "      <td>0.0</td>\n",
              "      <td>0.768167</td>\n",
              "      <td>12.111030</td>\n",
              "      <td>3.584642</td>\n",
              "      <td>3.331646</td>\n",
              "      <td>1.162707</td>\n",
              "      <td>0.0</td>\n",
              "      <td>0.0</td>\n",
              "      <td>0.0</td>\n",
              "      <td>82.073004</td>\n",
              "      <td>0.0</td>\n",
              "      <td>94.458746</td>\n",
              "      <td>83.125265</td>\n",
              "      <td>101.823335</td>\n",
              "      <td>111.070245</td>\n",
              "      <td>101.799410</td>\n",
              "      <td>110.617003</td>\n",
              "      <td>17.848313</td>\n",
              "      <td>30.136595</td>\n",
              "      <td>35.932640</td>\n",
              "      <td>33.406723</td>\n",
              "      <td>33.557549</td>\n",
              "      <td>37.074508</td>\n",
              "      <td>35.435879</td>\n",
              "      <td>29.754667</td>\n",
              "      <td>17.261845</td>\n",
              "      <td>14.302858</td>\n",
              "      <td>27.389775</td>\n",
              "      <td>21.627403</td>\n",
              "      <td>14.665368</td>\n",
              "      <td>15.546007</td>\n",
              "      <td>13.009956</td>\n",
              "      <td>12.278225</td>\n",
              "    </tr>\n",
              "    <tr>\n",
              "      <th>min</th>\n",
              "      <td>2014.0</td>\n",
              "      <td>1.000000</td>\n",
              "      <td>13.000000</td>\n",
              "      <td>21.000000</td>\n",
              "      <td>1980.000000</td>\n",
              "      <td>2005.000000</td>\n",
              "      <td>555.0</td>\n",
              "      <td>555.0</td>\n",
              "      <td>555.0</td>\n",
              "      <td>333.000000</td>\n",
              "      <td>555.0</td>\n",
              "      <td>333.000000</td>\n",
              "      <td>333.000000</td>\n",
              "      <td>333.000000</td>\n",
              "      <td>333.000000</td>\n",
              "      <td>333.000000</td>\n",
              "      <td>333.000000</td>\n",
              "      <td>0.000000</td>\n",
              "      <td>0.000000</td>\n",
              "      <td>0.000000</td>\n",
              "      <td>0.000000</td>\n",
              "      <td>0.000000</td>\n",
              "      <td>0.000000</td>\n",
              "      <td>0.000000</td>\n",
              "      <td>0.000000</td>\n",
              "      <td>0.000000</td>\n",
              "      <td>14.300000</td>\n",
              "      <td>0.000000</td>\n",
              "      <td>0.000000</td>\n",
              "      <td>0.000000</td>\n",
              "      <td>0.000000</td>\n",
              "      <td>12.200000</td>\n",
              "      <td>16.700000</td>\n",
              "    </tr>\n",
              "    <tr>\n",
              "      <th>25%</th>\n",
              "      <td>2014.0</td>\n",
              "      <td>2.000000</td>\n",
              "      <td>51.000000</td>\n",
              "      <td>23.000000</td>\n",
              "      <td>2007.000000</td>\n",
              "      <td>2009.000000</td>\n",
              "      <td>555.0</td>\n",
              "      <td>555.0</td>\n",
              "      <td>555.0</td>\n",
              "      <td>555.000000</td>\n",
              "      <td>555.0</td>\n",
              "      <td>555.000000</td>\n",
              "      <td>555.000000</td>\n",
              "      <td>333.000000</td>\n",
              "      <td>333.000000</td>\n",
              "      <td>333.000000</td>\n",
              "      <td>333.000000</td>\n",
              "      <td>62.500000</td>\n",
              "      <td>55.000000</td>\n",
              "      <td>30.000000</td>\n",
              "      <td>35.000000</td>\n",
              "      <td>0.000000</td>\n",
              "      <td>0.000000</td>\n",
              "      <td>0.000000</td>\n",
              "      <td>36.000000</td>\n",
              "      <td>52.050000</td>\n",
              "      <td>52.400000</td>\n",
              "      <td>0.000000</td>\n",
              "      <td>0.000000</td>\n",
              "      <td>0.000000</td>\n",
              "      <td>0.850000</td>\n",
              "      <td>44.500000</td>\n",
              "      <td>47.250000</td>\n",
              "    </tr>\n",
              "    <tr>\n",
              "      <th>50%</th>\n",
              "      <td>2014.0</td>\n",
              "      <td>2.000000</td>\n",
              "      <td>53.000000</td>\n",
              "      <td>24.000000</td>\n",
              "      <td>2008.000000</td>\n",
              "      <td>2010.000000</td>\n",
              "      <td>555.0</td>\n",
              "      <td>555.0</td>\n",
              "      <td>555.0</td>\n",
              "      <td>555.000000</td>\n",
              "      <td>555.0</td>\n",
              "      <td>555.000000</td>\n",
              "      <td>555.000000</td>\n",
              "      <td>555.000000</td>\n",
              "      <td>555.000000</td>\n",
              "      <td>555.000000</td>\n",
              "      <td>555.000000</td>\n",
              "      <td>75.000000</td>\n",
              "      <td>70.000000</td>\n",
              "      <td>65.000000</td>\n",
              "      <td>68.000000</td>\n",
              "      <td>65.000000</td>\n",
              "      <td>60.000000</td>\n",
              "      <td>58.000000</td>\n",
              "      <td>62.500000</td>\n",
              "      <td>65.100000</td>\n",
              "      <td>57.100000</td>\n",
              "      <td>0.000000</td>\n",
              "      <td>20.000000</td>\n",
              "      <td>0.000000</td>\n",
              "      <td>16.700000</td>\n",
              "      <td>52.600000</td>\n",
              "      <td>55.500000</td>\n",
              "    </tr>\n",
              "    <tr>\n",
              "      <th>75%</th>\n",
              "      <td>2014.0</td>\n",
              "      <td>2.000000</td>\n",
              "      <td>53.000000</td>\n",
              "      <td>25.000000</td>\n",
              "      <td>2009.000000</td>\n",
              "      <td>2010.000000</td>\n",
              "      <td>555.0</td>\n",
              "      <td>555.0</td>\n",
              "      <td>555.0</td>\n",
              "      <td>555.000000</td>\n",
              "      <td>555.0</td>\n",
              "      <td>555.000000</td>\n",
              "      <td>555.000000</td>\n",
              "      <td>555.000000</td>\n",
              "      <td>555.000000</td>\n",
              "      <td>555.000000</td>\n",
              "      <td>555.000000</td>\n",
              "      <td>87.500000</td>\n",
              "      <td>80.000000</td>\n",
              "      <td>90.000000</td>\n",
              "      <td>87.500000</td>\n",
              "      <td>75.000000</td>\n",
              "      <td>80.000000</td>\n",
              "      <td>78.000000</td>\n",
              "      <td>75.000000</td>\n",
              "      <td>75.050000</td>\n",
              "      <td>66.700000</td>\n",
              "      <td>40.000000</td>\n",
              "      <td>35.000000</td>\n",
              "      <td>10.000000</td>\n",
              "      <td>28.300000</td>\n",
              "      <td>60.650000</td>\n",
              "      <td>63.350000</td>\n",
              "    </tr>\n",
              "    <tr>\n",
              "      <th>max</th>\n",
              "      <td>2014.0</td>\n",
              "      <td>4.000000</td>\n",
              "      <td>53.000000</td>\n",
              "      <td>51.000000</td>\n",
              "      <td>2011.000000</td>\n",
              "      <td>2012.000000</td>\n",
              "      <td>555.0</td>\n",
              "      <td>555.0</td>\n",
              "      <td>555.0</td>\n",
              "      <td>555.000000</td>\n",
              "      <td>555.0</td>\n",
              "      <td>555.000000</td>\n",
              "      <td>555.000000</td>\n",
              "      <td>555.000000</td>\n",
              "      <td>555.000000</td>\n",
              "      <td>555.000000</td>\n",
              "      <td>555.000000</td>\n",
              "      <td>100.000000</td>\n",
              "      <td>95.000000</td>\n",
              "      <td>100.000000</td>\n",
              "      <td>98.000000</td>\n",
              "      <td>90.000000</td>\n",
              "      <td>100.000000</td>\n",
              "      <td>98.000000</td>\n",
              "      <td>97.000000</td>\n",
              "      <td>94.200000</td>\n",
              "      <td>90.500000</td>\n",
              "      <td>90.000000</td>\n",
              "      <td>90.000000</td>\n",
              "      <td>80.000000</td>\n",
              "      <td>60.000000</td>\n",
              "      <td>79.600000</td>\n",
              "      <td>79.600000</td>\n",
              "    </tr>\n",
              "  </tbody>\n",
              "</table>\n",
              "</div>"
            ],
            "text/plain": [
              "       nu_ano      co_ies  co_uf_curso  ...   nt_dis_ce       nt_ce      nt_ger\n",
              "count   191.0  191.000000   191.000000  ...  191.000000  191.000000  191.000000\n",
              "mean   2014.0    2.068063    46.167539  ...   17.681675   51.663874   54.438743\n",
              "std       0.0    0.768167    12.111030  ...   15.546007   13.009956   12.278225\n",
              "min    2014.0    1.000000    13.000000  ...    0.000000   12.200000   16.700000\n",
              "25%    2014.0    2.000000    51.000000  ...    0.850000   44.500000   47.250000\n",
              "50%    2014.0    2.000000    53.000000  ...   16.700000   52.600000   55.500000\n",
              "75%    2014.0    2.000000    53.000000  ...   28.300000   60.650000   63.350000\n",
              "max    2014.0    4.000000    53.000000  ...   60.000000   79.600000   79.600000\n",
              "\n",
              "[8 rows x 33 columns]"
            ]
          },
          "metadata": {
            "tags": []
          },
          "execution_count": 15
        }
      ]
    },
    {
      "cell_type": "markdown",
      "metadata": {
        "id": "4N1PIAsD1MIH"
      },
      "source": [
        "**Perceba que alguns atributos são categóricos e algumas das métricas não fazem sentido (p. ex., média para o ano). Mas podemos mudar a semântica dos atributos...** \n",
        "\n",
        "**Por exemplo, o trecho seguinte cria um novo atributo chamado \"ano\", tendo como base o atributo \"nu_ano\", mas em formato categórico. Depois, solicita para gerar dados estatísticos deste novo atributo:**"
      ]
    },
    {
      "cell_type": "code",
      "metadata": {
        "id": "CoLdCrrV1Rk-",
        "outputId": "08a91de8-86e5-4289-b7ff-f3ef8f6bc7ca",
        "colab": {
          "base_uri": "https://localhost:8080/",
          "height": 102
        }
      },
      "source": [
        "df[\"ano\"] = df[\"nu_ano\"].astype(\"category\")\n",
        "df[\"ano\"].describe()"
      ],
      "execution_count": null,
      "outputs": [
        {
          "output_type": "execute_result",
          "data": {
            "text/plain": [
              "count      191\n",
              "unique       1\n",
              "top       2014\n",
              "freq       191\n",
              "Name: ano, dtype: int64"
            ]
          },
          "metadata": {
            "tags": []
          },
          "execution_count": 16
        }
      ]
    },
    {
      "cell_type": "markdown",
      "metadata": {
        "id": "RJTY9lvO1TJ_"
      },
      "source": [
        "**Também podemos pegar um subconjunto dos dados ou um dos atributos e colocá-los em ordem. O trecho de código seguinte seleciona a coluna relativa ao ano de conclusão do 2o grau e mostra os registros em ordem crescente, por este campo:**"
      ]
    },
    {
      "cell_type": "code",
      "metadata": {
        "id": "yz1pEbsc1WHQ",
        "outputId": "ac220fa4-dcf9-4269-f382-a6e4e4f3f185",
        "colab": {
          "base_uri": "https://localhost:8080/",
          "height": 221
        }
      },
      "source": [
        "df['ano_fim_2g'].sort_values()\n"
      ],
      "execution_count": null,
      "outputs": [
        {
          "output_type": "execute_result",
          "data": {
            "text/plain": [
              "54     1980\n",
              "158    1981\n",
              "162    1998\n",
              "136    1999\n",
              "102    1999\n",
              "       ... \n",
              "160    2009\n",
              "47     2009\n",
              "190    2009\n",
              "58     2010\n",
              "6      2011\n",
              "Name: ano_fim_2g, Length: 191, dtype: int64"
            ]
          },
          "metadata": {
            "tags": []
          },
          "execution_count": 17
        }
      ]
    },
    {
      "cell_type": "markdown",
      "metadata": {
        "id": "I3GBfgmF1XmF"
      },
      "source": [
        "**Já o trecho seguinte cria uma nova tabela (data-frame) que contém as notas gerais dos alunos (Nota bruta da prova, i.e., a média ponderada da formação geral (25%) e componente específico (75%) (0 a 100)), ordenada por ano de finalização do 2o grau:**\n",
        "\n"
      ]
    },
    {
      "cell_type": "code",
      "metadata": {
        "id": "hhYfh_AY1ZS6",
        "outputId": "2a70e549-12ad-413c-dd94-250e1e760e0d",
        "colab": {
          "base_uri": "https://localhost:8080/",
          "height": 419
        }
      },
      "source": [
        "df2 = df[['ano_fim_2g','nt_ger']]\n",
        "df2.sort_values(by='ano_fim_2g')"
      ],
      "execution_count": null,
      "outputs": [
        {
          "output_type": "execute_result",
          "data": {
            "text/html": [
              "<div>\n",
              "<style scoped>\n",
              "    .dataframe tbody tr th:only-of-type {\n",
              "        vertical-align: middle;\n",
              "    }\n",
              "\n",
              "    .dataframe tbody tr th {\n",
              "        vertical-align: top;\n",
              "    }\n",
              "\n",
              "    .dataframe thead th {\n",
              "        text-align: right;\n",
              "    }\n",
              "</style>\n",
              "<table border=\"1\" class=\"dataframe\">\n",
              "  <thead>\n",
              "    <tr style=\"text-align: right;\">\n",
              "      <th></th>\n",
              "      <th>ano_fim_2g</th>\n",
              "      <th>nt_ger</th>\n",
              "    </tr>\n",
              "  </thead>\n",
              "  <tbody>\n",
              "    <tr>\n",
              "      <th>54</th>\n",
              "      <td>1980</td>\n",
              "      <td>53.4</td>\n",
              "    </tr>\n",
              "    <tr>\n",
              "      <th>158</th>\n",
              "      <td>1981</td>\n",
              "      <td>45.0</td>\n",
              "    </tr>\n",
              "    <tr>\n",
              "      <th>162</th>\n",
              "      <td>1998</td>\n",
              "      <td>53.1</td>\n",
              "    </tr>\n",
              "    <tr>\n",
              "      <th>136</th>\n",
              "      <td>1999</td>\n",
              "      <td>73.6</td>\n",
              "    </tr>\n",
              "    <tr>\n",
              "      <th>102</th>\n",
              "      <td>1999</td>\n",
              "      <td>61.8</td>\n",
              "    </tr>\n",
              "    <tr>\n",
              "      <th>...</th>\n",
              "      <td>...</td>\n",
              "      <td>...</td>\n",
              "    </tr>\n",
              "    <tr>\n",
              "      <th>160</th>\n",
              "      <td>2009</td>\n",
              "      <td>66.1</td>\n",
              "    </tr>\n",
              "    <tr>\n",
              "      <th>47</th>\n",
              "      <td>2009</td>\n",
              "      <td>66.6</td>\n",
              "    </tr>\n",
              "    <tr>\n",
              "      <th>190</th>\n",
              "      <td>2009</td>\n",
              "      <td>65.5</td>\n",
              "    </tr>\n",
              "    <tr>\n",
              "      <th>58</th>\n",
              "      <td>2010</td>\n",
              "      <td>70.8</td>\n",
              "    </tr>\n",
              "    <tr>\n",
              "      <th>6</th>\n",
              "      <td>2011</td>\n",
              "      <td>50.5</td>\n",
              "    </tr>\n",
              "  </tbody>\n",
              "</table>\n",
              "<p>191 rows × 2 columns</p>\n",
              "</div>"
            ],
            "text/plain": [
              "     ano_fim_2g  nt_ger\n",
              "54         1980    53.4\n",
              "158        1981    45.0\n",
              "162        1998    53.1\n",
              "136        1999    73.6\n",
              "102        1999    61.8\n",
              "..          ...     ...\n",
              "160        2009    66.1\n",
              "47         2009    66.6\n",
              "190        2009    65.5\n",
              "58         2010    70.8\n",
              "6          2011    50.5\n",
              "\n",
              "[191 rows x 2 columns]"
            ]
          },
          "metadata": {
            "tags": []
          },
          "execution_count": 18
        }
      ]
    },
    {
      "cell_type": "markdown",
      "metadata": {
        "id": "HhQ0aYoL1awf"
      },
      "source": [
        "**Você também pode visualizar os dados de diferentes maneiras...**\n",
        "\n",
        "**O exemplo seguinte mostra a média das notas agrupadas por ano de conclusão do 2o grau.**"
      ]
    },
    {
      "cell_type": "code",
      "metadata": {
        "id": "zoLThCTU1gVU",
        "outputId": "f0401184-2701-409b-da35-7f9dded5a71f",
        "colab": {
          "base_uri": "https://localhost:8080/",
          "height": 313
        }
      },
      "source": [
        "\n",
        "# o comando seguinte indica ao jupyter que o grafico sera gerado na propria celula (ao inves de salvar em uma arquivo)\n",
        "%matplotlib inline\n",
        "\n",
        "df3 = df2.groupby('ano_fim_2g').mean() # agrupa por ano de finalizacao e calcula a media\n",
        "df3.plot.bar() # mostra o resultado (media da nota geral, por ano de conclusao)\n",
        "\n",
        "#o grafico pode demorar um pouco para aparecer da primeira vez"
      ],
      "execution_count": null,
      "outputs": [
        {
          "output_type": "execute_result",
          "data": {
            "text/plain": [
              "<matplotlib.axes._subplots.AxesSubplot at 0x7f8d510a69e8>"
            ]
          },
          "metadata": {
            "tags": []
          },
          "execution_count": 19
        },
        {
          "output_type": "display_data",
          "data": {
            "image/png": "[encoded data removed]",
            "text/plain": [
              "<Figure size 432x288 with 1 Axes>"
            ]
          },
          "metadata": {
            "tags": [],
            "needs_background": "light"
          }
        }
      ]
    },
    {
      "cell_type": "markdown",
      "metadata": {
        "id": "cibtW5Ge1kep"
      },
      "source": [
        "**Para ter uma ideia dos tipos de visualização disponíveis**, consulte: http://pandas.pydata.org/pandas-docs/version/0.9.0/visualization.html\n",
        "\n",
        "**Para uma visão geral (de 10 minutos) sobre o que você pode fazer com a biblioteca \"Pandas\"**, consulte: http://pandas.pydata.org/pandas-docs/stable/10min.html.\n",
        "\n",
        "**Se tiver dúvidas sobre Python**, consulte o bloco de notas sobre Python básico disponibilizado pelo professor, (Link para o Google Colaboratory, no Moodle).\n",
        "\n",
        "**Atenção**: Os exemplos anteriores foram realizados em cima de um subconjunto dos dados. Se você trocar o nome do arquivo para 'microdados_enade_2014.csv', no mesmo local onde o professor disponibilizou o arquivo '2014.csv', terá acesso aos dados (e atributos) completos do ano de 2014."
      ]
    },
    {
      "cell_type": "markdown",
      "metadata": {
        "id": "njkSfyhC1xFv"
      },
      "source": [
        "### **Atividade (da Tarefa II)**: \n",
        "\n",
        "**Agora que voce ja sabe como abrir arquivos contendo dados** (ao menos em formato CSV), **crie um novo notebook (ou use o bloco abaixo deste) que seja capaz de extrair e analisar as informacoes contidas no arquivo de dados fornecido pelo professor ('extratoppgc.csv')**.\n",
        "\n",
        "**Seguem detalhes**:\n",
        "\n",
        "* Baixe o arquivo de dados entitulado 'extratoppgc.csv', disponibilizado na atividade, no Moodle. Ele contem um trecho das informacoes sobre a producao academico-cientifica dos professores do Instituto de Informatica;\n",
        "* Suba esse arquivo na plataforma Jupyter. Se estiver usando o notebooks.azure.com, vah ao menu 'Data > Upload' e suba-o;\n",
        "*Depois de ter encaminhado o arquivo, use o código seguinte para carrega-lo:"
      ]
    },
    {
      "cell_type": "code",
      "metadata": {
        "id": "J3R2FBZi1_aU",
        "outputId": "2acd497a-129c-4d94-f36a-3d404144b8a8",
        "colab": {
          "base_uri": "https://localhost:8080/",
          "height": 34
        }
      },
      "source": [
        "import pandas as pd\n",
        "\n",
        "arquivo = 'extratoppgc.csv' # local onde esta o arquivo de dados\n",
        "\n",
        "print(\"Getting file: \", arquivo)\n",
        "df = pd.read_csv(arquivo, encoding='cp860',sep=\";\")"
      ],
      "execution_count": null,
      "outputs": [
        {
          "output_type": "stream",
          "text": [
            "Getting file:  extratoppgc.csv\n"
          ],
          "name": "stdout"
        }
      ]
    },
    {
      "cell_type": "markdown",
      "metadata": {
        "id": "7o61bdSL2BKb"
      },
      "source": [
        "**Complete o script de maneira a**:\n",
        "\n",
        "* verificar quantos artigos (no total) sao produzidos por ano;\n",
        "* montar e mostrar uma tabela que demonstre quantos artigos por tipo (periodico ou conferencia) sao publicados por ano. Monte tambem um grafico em barras, comparando a producao de cada tipo, por ano);\n",
        "* mostrar uma tabela que demonstre a quantidade total de artigos por categoria de artigo (QUALIS A1, A2, B1, B2, B3, B4, B5 C);\n",
        "* extratificar a tabela anterior, demonstrando a quantidade de artigos em cada tipo de qualis, por ano. Monte graficos em linha que demonstrem a evolucao no periodo, por tipo de qualis e outro por tipo de artigo (periodico ou conferencia);\n",
        "* elaborar alguma tabela ou grafico que demonstre alguma informacao estatastica que voce achar relevante de analisar, tal como media, moda, mediana, desvio padrao, correlação..."
      ]
    },
    {
      "cell_type": "markdown",
      "metadata": {
        "id": "FYOkTxWX2Q9W"
      },
      "source": [
        "** Atenção**\n",
        "\n",
        "A **biblioteca pandas** tem como principal estrutura de dados o **dataframe** (i.e., um quadro de dados ou 'tabela').\n",
        "\n",
        "O comando seguinte importa a biblioteca pandas e dá o nome de **pd** a ela, **para faciliar o seu uso**:"
      ]
    },
    {
      "cell_type": "code",
      "metadata": {
        "id": "3UQ2VDXl2cMu"
      },
      "source": [
        "import pandas as pd\n"
      ],
      "execution_count": null,
      "outputs": []
    },
    {
      "cell_type": "markdown",
      "metadata": {
        "id": "2fhbftbm2cr3"
      },
      "source": [
        "Já o comando seguinte, usa o método **read_csv** da biblioteca pandas para carregar dados de um arquivo CSV.\n",
        "\n"
      ]
    },
    {
      "cell_type": "code",
      "metadata": {
        "id": "Uyu7QUgk2gI3"
      },
      "source": [
        "df = pd.read_csv(arquivo, encoding='cp860',sep=\";\")\n"
      ],
      "execution_count": null,
      "outputs": []
    },
    {
      "cell_type": "markdown",
      "metadata": {
        "id": "qRONMLSI2h6Y"
      },
      "source": [
        "Uma vez carregado, o dataframe (df) pode ser usado para realizarmos manipulações de dados (consultas, filtros, etc).\n",
        "\n",
        "A estrutura de dados 'dataframe' possui uma série de atributos e métodos.\n",
        "\n",
        "Alguns atributos são:\n",
        "* columns: lista dos atributos/colunas lidos do arquivo\n",
        "* dtypes: atributos e respectivos tipos identificados\n",
        "* shape: dimensões do dataframe (quantidade de linhas e colunas)\n",
        "\n",
        "Métodos:\n",
        "\n",
        "* head(): devolve/mostra as 5 primeiras linhas do dataframe\n",
        "* describe():\n",
        "* sort_values(): devolve a tabela ordenada por algum valor\n",
        "* groupby(): devolve a tabela agrupada por alguma coluna (ou lista de colunas)\n",
        "\n",
        "Mas há muitos outros. A lista completa pode ser encontrada na documentação sobre dataframes da biblioteca pandas.\n",
        "\n",
        "Além disso, o Jupyter tem algumas funcionalidades interessantes para mostrar os dataframes.\n",
        "\n",
        "Por exemplo, para ver o conteúdo do dataframe de maneira gráfica (tabela), basta colocar o seu nome:"
      ]
    },
    {
      "cell_type": "code",
      "metadata": {
        "id": "-MnXo0zV2sx2",
        "outputId": "0ff6585a-25d6-4dd6-c6ee-c60220e82abf",
        "colab": {
          "base_uri": "https://localhost:8080/",
          "height": 776
        }
      },
      "source": [
        "df"
      ],
      "execution_count": null,
      "outputs": [
        {
          "output_type": "execute_result",
          "data": {
            "text/html": [
              "<div>\n",
              "<style scoped>\n",
              "    .dataframe tbody tr th:only-of-type {\n",
              "        vertical-align: middle;\n",
              "    }\n",
              "\n",
              "    .dataframe tbody tr th {\n",
              "        vertical-align: top;\n",
              "    }\n",
              "\n",
              "    .dataframe thead th {\n",
              "        text-align: right;\n",
              "    }\n",
              "</style>\n",
              "<table border=\"1\" class=\"dataframe\">\n",
              "  <thead>\n",
              "    <tr style=\"text-align: right;\">\n",
              "      <th></th>\n",
              "      <th>Tipo</th>\n",
              "      <th>Ano</th>\n",
              "      <th>Qualis</th>\n",
              "      <th>Autor Principal</th>\n",
              "      <th>Tφtulo do Artigo</th>\n",
              "      <th>Peri≤dico/Evento</th>\n",
              "      <th>Aut.Total</th>\n",
              "      <th>Aut.Prof</th>\n",
              "      <th>Aut.Dout</th>\n",
              "      <th>Aut.Mestr</th>\n",
              "      <th>Aut.Grad</th>\n",
              "      <th>Autores - Nomes</th>\n",
              "      <th>PPGC</th>\n",
              "    </tr>\n",
              "  </thead>\n",
              "  <tbody>\n",
              "    <tr>\n",
              "      <th>0</th>\n",
              "      <td>ConferΩncia</td>\n",
              "      <td>2013</td>\n",
              "      <td>-</td>\n",
              "      <td>Jonas Santos Bezerra</td>\n",
              "      <td>14Factory: Facilitando a disponibilizaτπo de n...</td>\n",
              "      <td>Terceira Semana de Informßtica</td>\n",
              "      <td>4</td>\n",
              "      <td>1</td>\n",
              "      <td>0</td>\n",
              "      <td>0</td>\n",
              "      <td>0</td>\n",
              "      <td>Tßssio Augusto da Cruz Guimarπes; Vinφcius Cas...</td>\n",
              "      <td>Sim</td>\n",
              "    </tr>\n",
              "    <tr>\n",
              "      <th>1</th>\n",
              "      <td>ConferΩncia</td>\n",
              "      <td>2013</td>\n",
              "      <td>B4</td>\n",
              "      <td>Luciana Salete Buriol</td>\n",
              "      <td>A biased random-key genetic algorithm for a ne...</td>\n",
              "      <td>Simp≤sio Brasileiro de Pesquisa Operacional</td>\n",
              "      <td>3</td>\n",
              "      <td>1</td>\n",
              "      <td>0</td>\n",
              "      <td>0</td>\n",
              "      <td>0</td>\n",
              "      <td>Fernando Stefanello; Luciana Salete Buriol; Ma...</td>\n",
              "      <td>Sim</td>\n",
              "    </tr>\n",
              "    <tr>\n",
              "      <th>2</th>\n",
              "      <td>ConferΩncia</td>\n",
              "      <td>2013</td>\n",
              "      <td>-</td>\n",
              "      <td>Dante Augusto Couto Barone</td>\n",
              "      <td>A CI╩NCIA DA ANTECIPA╟├O: UM MODELO DE PREDI╟├...</td>\n",
              "      <td>ConferΩncia IADIS Ibero-Americana WWW / internet</td>\n",
              "      <td>2</td>\n",
              "      <td>1</td>\n",
              "      <td>0</td>\n",
              "      <td>0</td>\n",
              "      <td>0</td>\n",
              "      <td>Marco AurΘlio Schⁿnke; Dante Augusto Couto Barone</td>\n",
              "      <td>Sim</td>\n",
              "    </tr>\n",
              "    <tr>\n",
              "      <th>3</th>\n",
              "      <td>ConferΩncia</td>\n",
              "      <td>2013</td>\n",
              "      <td>B4</td>\n",
              "      <td>Liane Margarida Rockenbach Tarouco</td>\n",
              "      <td>A Cloud Monitoring Framework for Self-Configur...</td>\n",
              "      <td>International Conference on Network and Servic...</td>\n",
              "      <td>4</td>\n",
              "      <td>2</td>\n",
              "      <td>0</td>\n",
              "      <td>0</td>\n",
              "      <td>0</td>\n",
              "      <td>Mßrcio Barbosa de Carvalho; Rafael Pereira Est...</td>\n",
              "      <td>Sim</td>\n",
              "    </tr>\n",
              "    <tr>\n",
              "      <th>4</th>\n",
              "      <td>Peri≤dico</td>\n",
              "      <td>2013</td>\n",
              "      <td>A2</td>\n",
              "      <td>Mßrcio Dorn</td>\n",
              "      <td>A cluster-DEE-based strategy to empower protei...</td>\n",
              "      <td>Expert Systems with Applications</td>\n",
              "      <td>4</td>\n",
              "      <td>2</td>\n",
              "      <td>1</td>\n",
              "      <td>0</td>\n",
              "      <td>0</td>\n",
              "      <td>DE ANDRADES, RAFAEL K.; Mßrcio Dorn; FARENZENA...</td>\n",
              "      <td>Sim</td>\n",
              "    </tr>\n",
              "    <tr>\n",
              "      <th>...</th>\n",
              "      <td>...</td>\n",
              "      <td>...</td>\n",
              "      <td>...</td>\n",
              "      <td>...</td>\n",
              "      <td>...</td>\n",
              "      <td>...</td>\n",
              "      <td>...</td>\n",
              "      <td>...</td>\n",
              "      <td>...</td>\n",
              "      <td>...</td>\n",
              "      <td>...</td>\n",
              "      <td>...</td>\n",
              "      <td>...</td>\n",
              "    </tr>\n",
              "    <tr>\n",
              "      <th>2119</th>\n",
              "      <td>ConferΩncia</td>\n",
              "      <td>2016</td>\n",
              "      <td>-</td>\n",
              "      <td>Leandro Soares Guedes</td>\n",
              "      <td>Visualizaτπo de Informaτ⌡es de um Banco de Dad...</td>\n",
              "      <td>X MOCITEC</td>\n",
              "      <td>4</td>\n",
              "      <td>0</td>\n",
              "      <td>0</td>\n",
              "      <td>0</td>\n",
              "      <td>0</td>\n",
              "      <td>Carolina Guth Pinto; Thaiane Teixeira de Azeve...</td>\n",
              "      <td>Sim</td>\n",
              "    </tr>\n",
              "    <tr>\n",
              "      <th>2120</th>\n",
              "      <td>ConferΩncia</td>\n",
              "      <td>2016</td>\n",
              "      <td>-</td>\n",
              "      <td>Leandro Soares Guedes</td>\n",
              "      <td>Visualizaτπo de Informaτ⌡es de um Banco de Dad...</td>\n",
              "      <td>9¬ Jornada de Iniciaτπo Cientφfica e Tecnol≤gica</td>\n",
              "      <td>3</td>\n",
              "      <td>0</td>\n",
              "      <td>0</td>\n",
              "      <td>0</td>\n",
              "      <td>0</td>\n",
              "      <td>Thaiane Teixeira de Azevedo; Carolina Guth Pin...</td>\n",
              "      <td>Sim</td>\n",
              "    </tr>\n",
              "    <tr>\n",
              "      <th>2121</th>\n",
              "      <td>ConferΩncia</td>\n",
              "      <td>2016</td>\n",
              "      <td>-</td>\n",
              "      <td>Leandro Soares Guedes</td>\n",
              "      <td>Visualizaτπo Interativa de Dados de Rankings M...</td>\n",
              "      <td>X MOCITEC</td>\n",
              "      <td>3</td>\n",
              "      <td>0</td>\n",
              "      <td>0</td>\n",
              "      <td>0</td>\n",
              "      <td>0</td>\n",
              "      <td>David Aron Pires Fagundes; Lucas dos Santos La...</td>\n",
              "      <td>Sim</td>\n",
              "    </tr>\n",
              "    <tr>\n",
              "      <th>2122</th>\n",
              "      <td>ConferΩncia</td>\n",
              "      <td>2016</td>\n",
              "      <td>-</td>\n",
              "      <td>Leandro Soares Guedes</td>\n",
              "      <td>Visualizaτπo Interativa de Dados de Rankings M...</td>\n",
              "      <td>V MOVACI</td>\n",
              "      <td>2</td>\n",
              "      <td>0</td>\n",
              "      <td>0</td>\n",
              "      <td>0</td>\n",
              "      <td>0</td>\n",
              "      <td>Lucas dos Santos Lanzarini; Leandro Soares Guedes</td>\n",
              "      <td>Sim</td>\n",
              "    </tr>\n",
              "    <tr>\n",
              "      <th>2123</th>\n",
              "      <td>Peri≤dico</td>\n",
              "      <td>2016</td>\n",
              "      <td>A1</td>\n",
              "      <td>Jacob Scharcanski</td>\n",
              "      <td>Yawning Detection for Driver Monitoring Using ...</td>\n",
              "      <td>IEEE Transactions on Instrumentation and Measu...</td>\n",
              "      <td>9</td>\n",
              "      <td>1</td>\n",
              "      <td>0</td>\n",
              "      <td>0</td>\n",
              "      <td>0</td>\n",
              "      <td>S. Abtahi; M. Omidyeganeh; S. Shirmohammadi; A...</td>\n",
              "      <td>Sim</td>\n",
              "    </tr>\n",
              "  </tbody>\n",
              "</table>\n",
              "<p>2124 rows × 13 columns</p>\n",
              "</div>"
            ],
            "text/plain": [
              "             Tipo   Ano  ...                                    Autores - Nomes PPGC\n",
              "0     ConferΩncia  2013  ...  Tßssio Augusto da Cruz Guimarπes; Vinφcius Cas...  Sim\n",
              "1     ConferΩncia  2013  ...  Fernando Stefanello; Luciana Salete Buriol; Ma...  Sim\n",
              "2     ConferΩncia  2013  ...  Marco AurΘlio Schⁿnke; Dante Augusto Couto Barone  Sim\n",
              "3     ConferΩncia  2013  ...  Mßrcio Barbosa de Carvalho; Rafael Pereira Est...  Sim\n",
              "4       Peri≤dico  2013  ...  DE ANDRADES, RAFAEL K.; Mßrcio Dorn; FARENZENA...  Sim\n",
              "...           ...   ...  ...                                                ...  ...\n",
              "2119  ConferΩncia  2016  ...  Carolina Guth Pinto; Thaiane Teixeira de Azeve...  Sim\n",
              "2120  ConferΩncia  2016  ...  Thaiane Teixeira de Azevedo; Carolina Guth Pin...  Sim\n",
              "2121  ConferΩncia  2016  ...  David Aron Pires Fagundes; Lucas dos Santos La...  Sim\n",
              "2122  ConferΩncia  2016  ...  Lucas dos Santos Lanzarini; Leandro Soares Guedes  Sim\n",
              "2123    Peri≤dico  2016  ...  S. Abtahi; M. Omidyeganeh; S. Shirmohammadi; A...  Sim\n",
              "\n",
              "[2124 rows x 13 columns]"
            ]
          },
          "metadata": {
            "tags": []
          },
          "execution_count": 25
        }
      ]
    },
    {
      "cell_type": "markdown",
      "metadata": {
        "id": "9ZJE4AFn2wCp"
      },
      "source": [
        "Você pode usar os métodos diretamente ou dentro de um print, dependendo do caso... Como o Jupyter consegue detectar e mostrar o conteúdo das variáveis do tipo dataframe, o print nãoé necessário. Mas fora do Jupyter, pode ser que você necessite usar o print ou alguma biblioteca especial para a visualização.\n",
        "\n",
        "Veja alguns exemplos:"
      ]
    },
    {
      "cell_type": "code",
      "metadata": {
        "id": "VfFcV1R_2wlp",
        "outputId": "8d048319-a79e-483e-95af-99b303aed00e",
        "colab": {
          "base_uri": "https://localhost:8080/",
          "height": 68
        }
      },
      "source": [
        "# mostra os valores as colunas do arquivo\n",
        "df.columns.values"
      ],
      "execution_count": null,
      "outputs": [
        {
          "output_type": "execute_result",
          "data": {
            "text/plain": [
              "array(['Tipo', 'Ano', 'Qualis', 'Autor Principal', 'Tφtulo do Artigo',\n",
              "       'Peri≤dico/Evento', 'Aut.Total', 'Aut.Prof', 'Aut.Dout',\n",
              "       'Aut.Mestr', 'Aut.Grad', 'Autores - Nomes', 'PPGC'], dtype=object)"
            ]
          },
          "metadata": {
            "tags": []
          },
          "execution_count": 30
        }
      ]
    },
    {
      "cell_type": "code",
      "metadata": {
        "id": "i8mjddQY2zMQ",
        "outputId": "41eefb66-c333-4f05-c4e9-178f3bf244c7",
        "colab": {
          "base_uri": "https://localhost:8080/",
          "height": 68
        }
      },
      "source": [
        "print(df.columns.values)\n"
      ],
      "execution_count": null,
      "outputs": [
        {
          "output_type": "stream",
          "text": [
            "['Tipo' 'Ano' 'Qualis' 'Autor Principal' 'Tφtulo do Artigo'\n",
            " 'Peri≤dico/Evento' 'Aut.Total' 'Aut.Prof' 'Aut.Dout' 'Aut.Mestr'\n",
            " 'Aut.Grad' 'Autores - Nomes' 'PPGC']\n"
          ],
          "name": "stdout"
        }
      ]
    },
    {
      "cell_type": "code",
      "metadata": {
        "id": "TeJvvmmZ20YY",
        "outputId": "22975435-19b4-4982-fd5e-fbaa1185ce69",
        "colab": {
          "base_uri": "https://localhost:8080/",
          "height": 374
        }
      },
      "source": [
        "df.head() # mostra os primeiros registros\n"
      ],
      "execution_count": null,
      "outputs": [
        {
          "output_type": "execute_result",
          "data": {
            "text/html": [
              "<div>\n",
              "<style scoped>\n",
              "    .dataframe tbody tr th:only-of-type {\n",
              "        vertical-align: middle;\n",
              "    }\n",
              "\n",
              "    .dataframe tbody tr th {\n",
              "        vertical-align: top;\n",
              "    }\n",
              "\n",
              "    .dataframe thead th {\n",
              "        text-align: right;\n",
              "    }\n",
              "</style>\n",
              "<table border=\"1\" class=\"dataframe\">\n",
              "  <thead>\n",
              "    <tr style=\"text-align: right;\">\n",
              "      <th></th>\n",
              "      <th>Tipo</th>\n",
              "      <th>Ano</th>\n",
              "      <th>Qualis</th>\n",
              "      <th>Autor Principal</th>\n",
              "      <th>Tφtulo do Artigo</th>\n",
              "      <th>Peri≤dico/Evento</th>\n",
              "      <th>Aut.Total</th>\n",
              "      <th>Aut.Prof</th>\n",
              "      <th>Aut.Dout</th>\n",
              "      <th>Aut.Mestr</th>\n",
              "      <th>Aut.Grad</th>\n",
              "      <th>Autores - Nomes</th>\n",
              "      <th>PPGC</th>\n",
              "    </tr>\n",
              "  </thead>\n",
              "  <tbody>\n",
              "    <tr>\n",
              "      <th>0</th>\n",
              "      <td>ConferΩncia</td>\n",
              "      <td>2013</td>\n",
              "      <td>-</td>\n",
              "      <td>Jonas Santos Bezerra</td>\n",
              "      <td>14Factory: Facilitando a disponibilizaτπo de n...</td>\n",
              "      <td>Terceira Semana de Informßtica</td>\n",
              "      <td>4</td>\n",
              "      <td>1</td>\n",
              "      <td>0</td>\n",
              "      <td>0</td>\n",
              "      <td>0</td>\n",
              "      <td>Tßssio Augusto da Cruz Guimarπes; Vinφcius Cas...</td>\n",
              "      <td>Sim</td>\n",
              "    </tr>\n",
              "    <tr>\n",
              "      <th>1</th>\n",
              "      <td>ConferΩncia</td>\n",
              "      <td>2013</td>\n",
              "      <td>B4</td>\n",
              "      <td>Luciana Salete Buriol</td>\n",
              "      <td>A biased random-key genetic algorithm for a ne...</td>\n",
              "      <td>Simp≤sio Brasileiro de Pesquisa Operacional</td>\n",
              "      <td>3</td>\n",
              "      <td>1</td>\n",
              "      <td>0</td>\n",
              "      <td>0</td>\n",
              "      <td>0</td>\n",
              "      <td>Fernando Stefanello; Luciana Salete Buriol; Ma...</td>\n",
              "      <td>Sim</td>\n",
              "    </tr>\n",
              "    <tr>\n",
              "      <th>2</th>\n",
              "      <td>ConferΩncia</td>\n",
              "      <td>2013</td>\n",
              "      <td>-</td>\n",
              "      <td>Dante Augusto Couto Barone</td>\n",
              "      <td>A CI╩NCIA DA ANTECIPA╟├O: UM MODELO DE PREDI╟├...</td>\n",
              "      <td>ConferΩncia IADIS Ibero-Americana WWW / internet</td>\n",
              "      <td>2</td>\n",
              "      <td>1</td>\n",
              "      <td>0</td>\n",
              "      <td>0</td>\n",
              "      <td>0</td>\n",
              "      <td>Marco AurΘlio Schⁿnke; Dante Augusto Couto Barone</td>\n",
              "      <td>Sim</td>\n",
              "    </tr>\n",
              "    <tr>\n",
              "      <th>3</th>\n",
              "      <td>ConferΩncia</td>\n",
              "      <td>2013</td>\n",
              "      <td>B4</td>\n",
              "      <td>Liane Margarida Rockenbach Tarouco</td>\n",
              "      <td>A Cloud Monitoring Framework for Self-Configur...</td>\n",
              "      <td>International Conference on Network and Servic...</td>\n",
              "      <td>4</td>\n",
              "      <td>2</td>\n",
              "      <td>0</td>\n",
              "      <td>0</td>\n",
              "      <td>0</td>\n",
              "      <td>Mßrcio Barbosa de Carvalho; Rafael Pereira Est...</td>\n",
              "      <td>Sim</td>\n",
              "    </tr>\n",
              "    <tr>\n",
              "      <th>4</th>\n",
              "      <td>Peri≤dico</td>\n",
              "      <td>2013</td>\n",
              "      <td>A2</td>\n",
              "      <td>Mßrcio Dorn</td>\n",
              "      <td>A cluster-DEE-based strategy to empower protei...</td>\n",
              "      <td>Expert Systems with Applications</td>\n",
              "      <td>4</td>\n",
              "      <td>2</td>\n",
              "      <td>1</td>\n",
              "      <td>0</td>\n",
              "      <td>0</td>\n",
              "      <td>DE ANDRADES, RAFAEL K.; Mßrcio Dorn; FARENZENA...</td>\n",
              "      <td>Sim</td>\n",
              "    </tr>\n",
              "  </tbody>\n",
              "</table>\n",
              "</div>"
            ],
            "text/plain": [
              "          Tipo   Ano  ...                                    Autores - Nomes PPGC\n",
              "0  ConferΩncia  2013  ...  Tßssio Augusto da Cruz Guimarπes; Vinφcius Cas...  Sim\n",
              "1  ConferΩncia  2013  ...  Fernando Stefanello; Luciana Salete Buriol; Ma...  Sim\n",
              "2  ConferΩncia  2013  ...  Marco AurΘlio Schⁿnke; Dante Augusto Couto Barone  Sim\n",
              "3  ConferΩncia  2013  ...  Mßrcio Barbosa de Carvalho; Rafael Pereira Est...  Sim\n",
              "4    Peri≤dico  2013  ...  DE ANDRADES, RAFAEL K.; Mßrcio Dorn; FARENZENA...  Sim\n",
              "\n",
              "[5 rows x 13 columns]"
            ]
          },
          "metadata": {
            "tags": []
          },
          "execution_count": 32
        }
      ]
    },
    {
      "cell_type": "code",
      "metadata": {
        "id": "okprhuoY21zM",
        "outputId": "cbf7ec23-0560-4fdd-d732-0c7b9cc2166e",
        "colab": {
          "base_uri": "https://localhost:8080/",
          "height": 153
        }
      },
      "source": [
        "print(df.head())\n"
      ],
      "execution_count": null,
      "outputs": [
        {
          "output_type": "stream",
          "text": [
            "          Tipo   Ano  ...                                    Autores - Nomes PPGC\n",
            "0  ConferΩncia  2013  ...  Tßssio Augusto da Cruz Guimarπes; Vinφcius Cas...  Sim\n",
            "1  ConferΩncia  2013  ...  Fernando Stefanello; Luciana Salete Buriol; Ma...  Sim\n",
            "2  ConferΩncia  2013  ...  Marco AurΘlio Schⁿnke; Dante Augusto Couto Barone  Sim\n",
            "3  ConferΩncia  2013  ...  Mßrcio Barbosa de Carvalho; Rafael Pereira Est...  Sim\n",
            "4    Peri≤dico  2013  ...  DE ANDRADES, RAFAEL K.; Mßrcio Dorn; FARENZENA...  Sim\n",
            "\n",
            "[5 rows x 13 columns]\n"
          ],
          "name": "stdout"
        }
      ]
    },
    {
      "cell_type": "markdown",
      "metadata": {
        "id": "WDbC205k23Y8"
      },
      "source": [
        "**Você pode selecionar, rotacionar e filtrar o dataframe por colunas, linhas ou valores de atributos**:\n",
        "\n"
      ]
    },
    {
      "cell_type": "code",
      "metadata": {
        "id": "QJDw9n4z24rQ",
        "outputId": "b9e74b0f-eb97-4642-940b-14a33b0e9c9a",
        "colab": {
          "base_uri": "https://localhost:8080/",
          "height": 119
        }
      },
      "source": [
        "# seleciona a coluna Ano e retorna uma os valores em forma de uma \n",
        "# Série (tipo de dado específico do pandas)\n",
        "df['Ano'].head()"
      ],
      "execution_count": null,
      "outputs": [
        {
          "output_type": "execute_result",
          "data": {
            "text/plain": [
              "0    2013\n",
              "1    2013\n",
              "2    2013\n",
              "3    2013\n",
              "4    2013\n",
              "Name: Ano, dtype: int64"
            ]
          },
          "metadata": {
            "tags": []
          },
          "execution_count": 34
        }
      ]
    },
    {
      "cell_type": "code",
      "metadata": {
        "id": "U5WCDQy826oA",
        "outputId": "871b0b10-dfed-4971-ba0d-ca03fed6a23a",
        "colab": {
          "base_uri": "https://localhost:8080/",
          "height": 34
        }
      },
      "source": [
        "type(df['Ano'])\n"
      ],
      "execution_count": null,
      "outputs": [
        {
          "output_type": "execute_result",
          "data": {
            "text/plain": [
              "pandas.core.series.Series"
            ]
          },
          "metadata": {
            "tags": []
          },
          "execution_count": 35
        }
      ]
    },
    {
      "cell_type": "code",
      "metadata": {
        "id": "beeiYW7428Ze",
        "outputId": "cce91beb-d9d8-470c-c2cd-589404b3512c",
        "colab": {
          "base_uri": "https://localhost:8080/",
          "height": 204
        }
      },
      "source": [
        "# seleciona a coluna Ano e retorna uma os valores em forma de um\n",
        "# Dataframe \n",
        "df[['Ano']].head()"
      ],
      "execution_count": null,
      "outputs": [
        {
          "output_type": "execute_result",
          "data": {
            "text/html": [
              "<div>\n",
              "<style scoped>\n",
              "    .dataframe tbody tr th:only-of-type {\n",
              "        vertical-align: middle;\n",
              "    }\n",
              "\n",
              "    .dataframe tbody tr th {\n",
              "        vertical-align: top;\n",
              "    }\n",
              "\n",
              "    .dataframe thead th {\n",
              "        text-align: right;\n",
              "    }\n",
              "</style>\n",
              "<table border=\"1\" class=\"dataframe\">\n",
              "  <thead>\n",
              "    <tr style=\"text-align: right;\">\n",
              "      <th></th>\n",
              "      <th>Ano</th>\n",
              "    </tr>\n",
              "  </thead>\n",
              "  <tbody>\n",
              "    <tr>\n",
              "      <th>0</th>\n",
              "      <td>2013</td>\n",
              "    </tr>\n",
              "    <tr>\n",
              "      <th>1</th>\n",
              "      <td>2013</td>\n",
              "    </tr>\n",
              "    <tr>\n",
              "      <th>2</th>\n",
              "      <td>2013</td>\n",
              "    </tr>\n",
              "    <tr>\n",
              "      <th>3</th>\n",
              "      <td>2013</td>\n",
              "    </tr>\n",
              "    <tr>\n",
              "      <th>4</th>\n",
              "      <td>2013</td>\n",
              "    </tr>\n",
              "  </tbody>\n",
              "</table>\n",
              "</div>"
            ],
            "text/plain": [
              "    Ano\n",
              "0  2013\n",
              "1  2013\n",
              "2  2013\n",
              "3  2013\n",
              "4  2013"
            ]
          },
          "metadata": {
            "tags": []
          },
          "execution_count": 36
        }
      ]
    },
    {
      "cell_type": "code",
      "metadata": {
        "id": "pqRmGs7t29hn"
      },
      "source": [
        "type(df[['Ano']])\n"
      ],
      "execution_count": null,
      "outputs": []
    },
    {
      "cell_type": "code",
      "metadata": {
        "id": "eCAiv2032-4w",
        "outputId": "ab071a55-9c6f-404e-d05c-278936944006",
        "colab": {
          "base_uri": "https://localhost:8080/",
          "height": 204
        }
      },
      "source": [
        "# é possível escolher uma lista de colunas:\n",
        "df[['Ano','Tipo','Qualis']].head()"
      ],
      "execution_count": null,
      "outputs": [
        {
          "output_type": "execute_result",
          "data": {
            "text/html": [
              "<div>\n",
              "<style scoped>\n",
              "    .dataframe tbody tr th:only-of-type {\n",
              "        vertical-align: middle;\n",
              "    }\n",
              "\n",
              "    .dataframe tbody tr th {\n",
              "        vertical-align: top;\n",
              "    }\n",
              "\n",
              "    .dataframe thead th {\n",
              "        text-align: right;\n",
              "    }\n",
              "</style>\n",
              "<table border=\"1\" class=\"dataframe\">\n",
              "  <thead>\n",
              "    <tr style=\"text-align: right;\">\n",
              "      <th></th>\n",
              "      <th>Ano</th>\n",
              "      <th>Tipo</th>\n",
              "      <th>Qualis</th>\n",
              "    </tr>\n",
              "  </thead>\n",
              "  <tbody>\n",
              "    <tr>\n",
              "      <th>0</th>\n",
              "      <td>2013</td>\n",
              "      <td>ConferΩncia</td>\n",
              "      <td>-</td>\n",
              "    </tr>\n",
              "    <tr>\n",
              "      <th>1</th>\n",
              "      <td>2013</td>\n",
              "      <td>ConferΩncia</td>\n",
              "      <td>B4</td>\n",
              "    </tr>\n",
              "    <tr>\n",
              "      <th>2</th>\n",
              "      <td>2013</td>\n",
              "      <td>ConferΩncia</td>\n",
              "      <td>-</td>\n",
              "    </tr>\n",
              "    <tr>\n",
              "      <th>3</th>\n",
              "      <td>2013</td>\n",
              "      <td>ConferΩncia</td>\n",
              "      <td>B4</td>\n",
              "    </tr>\n",
              "    <tr>\n",
              "      <th>4</th>\n",
              "      <td>2013</td>\n",
              "      <td>Peri≤dico</td>\n",
              "      <td>A2</td>\n",
              "    </tr>\n",
              "  </tbody>\n",
              "</table>\n",
              "</div>"
            ],
            "text/plain": [
              "    Ano         Tipo Qualis\n",
              "0  2013  ConferΩncia      -\n",
              "1  2013  ConferΩncia     B4\n",
              "2  2013  ConferΩncia      -\n",
              "3  2013  ConferΩncia     B4\n",
              "4  2013    Peri≤dico     A2"
            ]
          },
          "metadata": {
            "tags": []
          },
          "execution_count": 37
        }
      ]
    },
    {
      "cell_type": "code",
      "metadata": {
        "id": "QwLXuz-J3As1",
        "outputId": "3f935b87-6f25-4c06-c776-01c86f834b15",
        "colab": {
          "base_uri": "https://localhost:8080/",
          "height": 306
        }
      },
      "source": [
        "\n",
        "# também é possível selecionar somente as linhas que possuam determinado valor\n",
        "# O exemplo seguinte retorna somente artigos que possuam qualis A1 \n",
        "df.loc[df['Qualis'] == 'A1'].head() # limitado a 5 resultados pelo head()"
      ],
      "execution_count": null,
      "outputs": [
        {
          "output_type": "execute_result",
          "data": {
            "text/html": [
              "<div>\n",
              "<style scoped>\n",
              "    .dataframe tbody tr th:only-of-type {\n",
              "        vertical-align: middle;\n",
              "    }\n",
              "\n",
              "    .dataframe tbody tr th {\n",
              "        vertical-align: top;\n",
              "    }\n",
              "\n",
              "    .dataframe thead th {\n",
              "        text-align: right;\n",
              "    }\n",
              "</style>\n",
              "<table border=\"1\" class=\"dataframe\">\n",
              "  <thead>\n",
              "    <tr style=\"text-align: right;\">\n",
              "      <th></th>\n",
              "      <th>Tipo</th>\n",
              "      <th>Ano</th>\n",
              "      <th>Qualis</th>\n",
              "      <th>Autor Principal</th>\n",
              "      <th>Tφtulo do Artigo</th>\n",
              "      <th>Peri≤dico/Evento</th>\n",
              "      <th>Aut.Total</th>\n",
              "      <th>Aut.Prof</th>\n",
              "      <th>Aut.Dout</th>\n",
              "      <th>Aut.Mestr</th>\n",
              "      <th>Aut.Grad</th>\n",
              "      <th>Autores - Nomes</th>\n",
              "      <th>PPGC</th>\n",
              "    </tr>\n",
              "  </thead>\n",
              "  <tbody>\n",
              "    <tr>\n",
              "      <th>20</th>\n",
              "      <td>ConferΩncia</td>\n",
              "      <td>2013</td>\n",
              "      <td>A1</td>\n",
              "      <td>Karin Becker</td>\n",
              "      <td>A Framework for Web Service Usage Profiles Dis...</td>\n",
              "      <td>IEEE International Conference on Web Services</td>\n",
              "      <td>2</td>\n",
              "      <td>1</td>\n",
              "      <td>0</td>\n",
              "      <td>0</td>\n",
              "      <td>0</td>\n",
              "      <td>Bruno Vollino; Karin Becker</td>\n",
              "      <td>Sim</td>\n",
              "    </tr>\n",
              "    <tr>\n",
              "      <th>23</th>\n",
              "      <td>Peri≤dico</td>\n",
              "      <td>2013</td>\n",
              "      <td>A1</td>\n",
              "      <td>Marcus Rolf Peter Ritt</td>\n",
              "      <td>A heuristic and a branch-and-bound algorithm f...</td>\n",
              "      <td>Computers and Operations Research</td>\n",
              "      <td>2</td>\n",
              "      <td>1</td>\n",
              "      <td>0</td>\n",
              "      <td>0</td>\n",
              "      <td>0</td>\n",
              "      <td>BORBA, LEONARDO; Marcus Rolf Peter Ritt</td>\n",
              "      <td>Sim</td>\n",
              "    </tr>\n",
              "    <tr>\n",
              "      <th>27</th>\n",
              "      <td>ConferΩncia</td>\n",
              "      <td>2013</td>\n",
              "      <td>A1</td>\n",
              "      <td>Dieison Soares Silveira</td>\n",
              "      <td>A lossless approach for external memory bandwi...</td>\n",
              "      <td>IEEE International Conference on Multimedia an...</td>\n",
              "      <td>3</td>\n",
              "      <td>1</td>\n",
              "      <td>0</td>\n",
              "      <td>0</td>\n",
              "      <td>0</td>\n",
              "      <td>Dieison Soares Silveira; Marcelo Schiavon Port...</td>\n",
              "      <td>Sim</td>\n",
              "    </tr>\n",
              "    <tr>\n",
              "      <th>29</th>\n",
              "      <td>ConferΩncia</td>\n",
              "      <td>2013</td>\n",
              "      <td>A1</td>\n",
              "      <td>Lisandro Zambenedetti Granville</td>\n",
              "      <td>A mashup ecosystem for network management situ...</td>\n",
              "      <td>IEEE Global Telecommunications Conference</td>\n",
              "      <td>3</td>\n",
              "      <td>1</td>\n",
              "      <td>0</td>\n",
              "      <td>0</td>\n",
              "      <td>0</td>\n",
              "      <td>RENDON, OSCAR MAURICIO CAICEDO; ESTRADA-SOLANO...</td>\n",
              "      <td>Sim</td>\n",
              "    </tr>\n",
              "    <tr>\n",
              "      <th>40</th>\n",
              "      <td>Peri≤dico</td>\n",
              "      <td>2013</td>\n",
              "      <td>A1</td>\n",
              "      <td>Jacob Scharcanski</td>\n",
              "      <td>A morphologic two-stage approach for automated...</td>\n",
              "      <td>Pattern Recognition Letters</td>\n",
              "      <td>3</td>\n",
              "      <td>1</td>\n",
              "      <td>0</td>\n",
              "      <td>0</td>\n",
              "      <td>0</td>\n",
              "      <td>Daniel Welfer; Jacob Scharcanski; Diane R. Mar...</td>\n",
              "      <td>Sim</td>\n",
              "    </tr>\n",
              "  </tbody>\n",
              "</table>\n",
              "</div>"
            ],
            "text/plain": [
              "           Tipo   Ano  ...                                    Autores - Nomes PPGC\n",
              "20  ConferΩncia  2013  ...                        Bruno Vollino; Karin Becker  Sim\n",
              "23    Peri≤dico  2013  ...            BORBA, LEONARDO; Marcus Rolf Peter Ritt  Sim\n",
              "27  ConferΩncia  2013  ...  Dieison Soares Silveira; Marcelo Schiavon Port...  Sim\n",
              "29  ConferΩncia  2013  ...  RENDON, OSCAR MAURICIO CAICEDO; ESTRADA-SOLANO...  Sim\n",
              "40    Peri≤dico  2013  ...  Daniel Welfer; Jacob Scharcanski; Diane R. Mar...  Sim\n",
              "\n",
              "[5 rows x 13 columns]"
            ]
          },
          "metadata": {
            "tags": []
          },
          "execution_count": 38
        }
      ]
    },
    {
      "cell_type": "code",
      "metadata": {
        "id": "NCyBNHgW3B6L"
      },
      "source": [
        "df.loc[df['Qualis'] != 'A1'].head() # os que não são A1\n"
      ],
      "execution_count": null,
      "outputs": []
    },
    {
      "cell_type": "code",
      "metadata": {
        "id": "u2AVryP-3DgN",
        "outputId": "aea4af31-5bd5-4c7d-d042-1f2233e14133",
        "colab": {
          "base_uri": "https://localhost:8080/",
          "height": 306
        }
      },
      "source": [
        "\n",
        "# O exemplo seguinte seleciona somente as linhas que possuem um conjunto de qualis desejado\n",
        "df.loc[df['Qualis'].isin(['A1', 'A2', 'B1'])].head() # limitado a 5 resultados pelo head()"
      ],
      "execution_count": null,
      "outputs": [
        {
          "output_type": "execute_result",
          "data": {
            "text/html": [
              "<div>\n",
              "<style scoped>\n",
              "    .dataframe tbody tr th:only-of-type {\n",
              "        vertical-align: middle;\n",
              "    }\n",
              "\n",
              "    .dataframe tbody tr th {\n",
              "        vertical-align: top;\n",
              "    }\n",
              "\n",
              "    .dataframe thead th {\n",
              "        text-align: right;\n",
              "    }\n",
              "</style>\n",
              "<table border=\"1\" class=\"dataframe\">\n",
              "  <thead>\n",
              "    <tr style=\"text-align: right;\">\n",
              "      <th></th>\n",
              "      <th>Tipo</th>\n",
              "      <th>Ano</th>\n",
              "      <th>Qualis</th>\n",
              "      <th>Autor Principal</th>\n",
              "      <th>Tφtulo do Artigo</th>\n",
              "      <th>Peri≤dico/Evento</th>\n",
              "      <th>Aut.Total</th>\n",
              "      <th>Aut.Prof</th>\n",
              "      <th>Aut.Dout</th>\n",
              "      <th>Aut.Mestr</th>\n",
              "      <th>Aut.Grad</th>\n",
              "      <th>Autores - Nomes</th>\n",
              "      <th>PPGC</th>\n",
              "    </tr>\n",
              "  </thead>\n",
              "  <tbody>\n",
              "    <tr>\n",
              "      <th>4</th>\n",
              "      <td>Peri≤dico</td>\n",
              "      <td>2013</td>\n",
              "      <td>A2</td>\n",
              "      <td>Mßrcio Dorn</td>\n",
              "      <td>A cluster-DEE-based strategy to empower protei...</td>\n",
              "      <td>Expert Systems with Applications</td>\n",
              "      <td>4</td>\n",
              "      <td>2</td>\n",
              "      <td>1</td>\n",
              "      <td>0</td>\n",
              "      <td>0</td>\n",
              "      <td>DE ANDRADES, RAFAEL K.; Mßrcio Dorn; FARENZENA...</td>\n",
              "      <td>Sim</td>\n",
              "    </tr>\n",
              "    <tr>\n",
              "      <th>5</th>\n",
              "      <td>Peri≤dico</td>\n",
              "      <td>2013</td>\n",
              "      <td>A2</td>\n",
              "      <td>Daniel Scain Farenzena</td>\n",
              "      <td>A cluster-DEE-based strategy to empower protei...</td>\n",
              "      <td>Expert Systems with Applications</td>\n",
              "      <td>4</td>\n",
              "      <td>3</td>\n",
              "      <td>0</td>\n",
              "      <td>0</td>\n",
              "      <td>0</td>\n",
              "      <td>DE ANDRADES, RAFAEL K.; Dorn, Mßrcio; Luφs da ...</td>\n",
              "      <td>Sim</td>\n",
              "    </tr>\n",
              "    <tr>\n",
              "      <th>6</th>\n",
              "      <td>Peri≤dico</td>\n",
              "      <td>2013</td>\n",
              "      <td>A2</td>\n",
              "      <td>Luφs da Cunha Lamb</td>\n",
              "      <td>A cluster-DEE-based strategy to empower protei...</td>\n",
              "      <td>Expert Systems with Applications</td>\n",
              "      <td>4</td>\n",
              "      <td>2</td>\n",
              "      <td>0</td>\n",
              "      <td>0</td>\n",
              "      <td>0</td>\n",
              "      <td>DE ANDRADES, RAFAEL K.; Dorn, M├írcio; Daniel ...</td>\n",
              "      <td>Sim</td>\n",
              "    </tr>\n",
              "    <tr>\n",
              "      <th>7</th>\n",
              "      <td>Peri≤dico</td>\n",
              "      <td>2013</td>\n",
              "      <td>B1</td>\n",
              "      <td>Jacob Scharcanski</td>\n",
              "      <td>A Coarse-to-Fine Approach for Segmenting Melan...</td>\n",
              "      <td>Computer Methods and Programs in Biomedicine (...</td>\n",
              "      <td>2</td>\n",
              "      <td>1</td>\n",
              "      <td>0</td>\n",
              "      <td>0</td>\n",
              "      <td>0</td>\n",
              "      <td>CAVALCANTI, PABLO G.; Jacob Scharcanski</td>\n",
              "      <td>Sim</td>\n",
              "    </tr>\n",
              "    <tr>\n",
              "      <th>14</th>\n",
              "      <td>Peri≤dico</td>\n",
              "      <td>2013</td>\n",
              "      <td>B1</td>\n",
              "      <td>Renato Perez Ribas</td>\n",
              "      <td>BTI, HCI and TDDB aging impact in flip-flops</td>\n",
              "      <td>Microelectronics and Reliability</td>\n",
              "      <td>4</td>\n",
              "      <td>2</td>\n",
              "      <td>0</td>\n",
              "      <td>0</td>\n",
              "      <td>0</td>\n",
              "      <td>Cφcero Nunes; BUTZEN, P.F.; REIS, A.I.; Renato...</td>\n",
              "      <td>Nπo</td>\n",
              "    </tr>\n",
              "  </tbody>\n",
              "</table>\n",
              "</div>"
            ],
            "text/plain": [
              "         Tipo   Ano  ...                                    Autores - Nomes PPGC\n",
              "4   Peri≤dico  2013  ...  DE ANDRADES, RAFAEL K.; Mßrcio Dorn; FARENZENA...  Sim\n",
              "5   Peri≤dico  2013  ...  DE ANDRADES, RAFAEL K.; Dorn, Mßrcio; Luφs da ...  Sim\n",
              "6   Peri≤dico  2013  ...  DE ANDRADES, RAFAEL K.; Dorn, M├írcio; Daniel ...  Sim\n",
              "7   Peri≤dico  2013  ...            CAVALCANTI, PABLO G.; Jacob Scharcanski  Sim\n",
              "14  Peri≤dico  2013  ...  Cφcero Nunes; BUTZEN, P.F.; REIS, A.I.; Renato...  Nπo\n",
              "\n",
              "[5 rows x 13 columns]"
            ]
          },
          "metadata": {
            "tags": []
          },
          "execution_count": 39
        }
      ]
    },
    {
      "cell_type": "code",
      "metadata": {
        "id": "yNbLkY7Z3FMA"
      },
      "source": [
        "# seleciona os que não estão no conjunto especificado:\n",
        "df.loc[~df['Qualis'].isin(['A1', 'A2', 'B1'])].head() # limitado a 5 resultados pelo head()"
      ],
      "execution_count": null,
      "outputs": []
    },
    {
      "cell_type": "code",
      "metadata": {
        "id": "dJvE3ppL3G8a",
        "outputId": "e37c86cc-ca73-42ee-9cec-d2694123c967",
        "colab": {
          "base_uri": "https://localhost:8080/",
          "height": 374
        }
      },
      "source": [
        "# É possível ter mais de um critério\n",
        "# o exemplo, devolve os artigos publicados a partir de 2014 e que tenham Qualis A1, A2 ou B1\n",
        "df.loc[(df['Ano'] >= 2014) & (df['Qualis'].isin(['A1', 'A2', 'B1']))].head() # limitado a 5"
      ],
      "execution_count": null,
      "outputs": [
        {
          "output_type": "execute_result",
          "data": {
            "text/html": [
              "<div>\n",
              "<style scoped>\n",
              "    .dataframe tbody tr th:only-of-type {\n",
              "        vertical-align: middle;\n",
              "    }\n",
              "\n",
              "    .dataframe tbody tr th {\n",
              "        vertical-align: top;\n",
              "    }\n",
              "\n",
              "    .dataframe thead th {\n",
              "        text-align: right;\n",
              "    }\n",
              "</style>\n",
              "<table border=\"1\" class=\"dataframe\">\n",
              "  <thead>\n",
              "    <tr style=\"text-align: right;\">\n",
              "      <th></th>\n",
              "      <th>Tipo</th>\n",
              "      <th>Ano</th>\n",
              "      <th>Qualis</th>\n",
              "      <th>Autor Principal</th>\n",
              "      <th>Tφtulo do Artigo</th>\n",
              "      <th>Peri≤dico/Evento</th>\n",
              "      <th>Aut.Total</th>\n",
              "      <th>Aut.Prof</th>\n",
              "      <th>Aut.Dout</th>\n",
              "      <th>Aut.Mestr</th>\n",
              "      <th>Aut.Grad</th>\n",
              "      <th>Autores - Nomes</th>\n",
              "      <th>PPGC</th>\n",
              "    </tr>\n",
              "  </thead>\n",
              "  <tbody>\n",
              "    <tr>\n",
              "      <th>665</th>\n",
              "      <td>Peri≤dico</td>\n",
              "      <td>2014</td>\n",
              "      <td>A2</td>\n",
              "      <td>Renan de Queiroz Maffei</td>\n",
              "      <td>2014 Humanitarian Robotics and Automation Tech...</td>\n",
              "      <td>IEEE Robotics &amp; Automation Magazine</td>\n",
              "      <td>11</td>\n",
              "      <td>3</td>\n",
              "      <td>0</td>\n",
              "      <td>0</td>\n",
              "      <td>0</td>\n",
              "      <td>MADHAVAN, RAJ; MARQUES, LINO; PRESTES, EDSON; ...</td>\n",
              "      <td>Sim</td>\n",
              "    </tr>\n",
              "    <tr>\n",
              "      <th>666</th>\n",
              "      <td>Peri≤dico</td>\n",
              "      <td>2014</td>\n",
              "      <td>A2</td>\n",
              "      <td>Vitor Augusto Machado Jorge</td>\n",
              "      <td>2014 Humanitarian Robotics and Automation Tech...</td>\n",
              "      <td>IEEE Robotics &amp; Automation Magazine</td>\n",
              "      <td>11</td>\n",
              "      <td>3</td>\n",
              "      <td>0</td>\n",
              "      <td>0</td>\n",
              "      <td>0</td>\n",
              "      <td>MADHAVAN, RAJ; MARQUES, LINO; PRESTES, EDSON; ...</td>\n",
              "      <td>Sim</td>\n",
              "    </tr>\n",
              "    <tr>\n",
              "      <th>673</th>\n",
              "      <td>ConferΩncia</td>\n",
              "      <td>2014</td>\n",
              "      <td>B1</td>\n",
              "      <td>Liane Margarida Rockenbach Tarouco</td>\n",
              "      <td>A Collaborative Solution for SNMP Traces Visua...</td>\n",
              "      <td>International Conference on Information Networ...</td>\n",
              "      <td>5</td>\n",
              "      <td>2</td>\n",
              "      <td>0</td>\n",
              "      <td>0</td>\n",
              "      <td>0</td>\n",
              "      <td>Vini&amp;#305;cius Tavares Guimarπaes; Glederson S...</td>\n",
              "      <td>Sim</td>\n",
              "    </tr>\n",
              "    <tr>\n",
              "      <th>674</th>\n",
              "      <td>ConferΩncia</td>\n",
              "      <td>2014</td>\n",
              "      <td>B1</td>\n",
              "      <td>Lisandro Zambenedetti Granville</td>\n",
              "      <td>A Collaborative Solution for SNMP Traces Visua...</td>\n",
              "      <td>International Conference on Information Networ...</td>\n",
              "      <td>5</td>\n",
              "      <td>2</td>\n",
              "      <td>0</td>\n",
              "      <td>0</td>\n",
              "      <td>0</td>\n",
              "      <td>Guilherme da Cunha Rodrigues; Vinφcius Tavares...</td>\n",
              "      <td>Sim</td>\n",
              "    </tr>\n",
              "    <tr>\n",
              "      <th>677</th>\n",
              "      <td>ConferΩncia</td>\n",
              "      <td>2014</td>\n",
              "      <td>A1</td>\n",
              "      <td>Andre Inacio Reis</td>\n",
              "      <td>A constructive approach for threshold logic ci...</td>\n",
              "      <td>IEEE International Symposium on Circuits and S...</td>\n",
              "      <td>4</td>\n",
              "      <td>2</td>\n",
              "      <td>1</td>\n",
              "      <td>0</td>\n",
              "      <td>0</td>\n",
              "      <td>Augusto Neutzling; Mayler Gama Alverenga Marti...</td>\n",
              "      <td>Sim</td>\n",
              "    </tr>\n",
              "  </tbody>\n",
              "</table>\n",
              "</div>"
            ],
            "text/plain": [
              "            Tipo   Ano  ...                                    Autores - Nomes PPGC\n",
              "665    Peri≤dico  2014  ...  MADHAVAN, RAJ; MARQUES, LINO; PRESTES, EDSON; ...  Sim\n",
              "666    Peri≤dico  2014  ...  MADHAVAN, RAJ; MARQUES, LINO; PRESTES, EDSON; ...  Sim\n",
              "673  ConferΩncia  2014  ...  Vini&#305;cius Tavares Guimarπaes; Glederson S...  Sim\n",
              "674  ConferΩncia  2014  ...  Guilherme da Cunha Rodrigues; Vinφcius Tavares...  Sim\n",
              "677  ConferΩncia  2014  ...  Augusto Neutzling; Mayler Gama Alverenga Marti...  Sim\n",
              "\n",
              "[5 rows x 13 columns]"
            ]
          },
          "metadata": {
            "tags": []
          },
          "execution_count": 40
        }
      ]
    },
    {
      "cell_type": "code",
      "metadata": {
        "id": "EVPgRQSz3IP-"
      },
      "source": [
        "# também há o método query (mas pode ser demorado):\n",
        "df.query('Qualis == \"A1\"').head()"
      ],
      "execution_count": null,
      "outputs": []
    },
    {
      "cell_type": "code",
      "metadata": {
        "id": "bwQRf7zs3Jso"
      },
      "source": [
        "# você pode buscar pelo índice (no caso do exemplo, é o número do registro):\n",
        "df.loc[[10]]"
      ],
      "execution_count": null,
      "outputs": []
    },
    {
      "cell_type": "code",
      "metadata": {
        "id": "RXBxa33R3KyK"
      },
      "source": [
        "\n",
        "# ou uma lista de registros:\n",
        "df.loc[[10,100]]"
      ],
      "execution_count": null,
      "outputs": []
    },
    {
      "cell_type": "code",
      "metadata": {
        "id": "qVFmrzGP3MSA"
      },
      "source": [
        "# você pode trocar o índice \n",
        "# perceba que as modificações não são feitas no dataframe original \n",
        "# (e por isso o resultado foi colocado em uma nova variável)\n",
        "# se desejar fazer no original, tem essa opção (veja na documentação)\n",
        "df2 = df.set_index(['Autor Principal']) \n",
        "\n",
        "# e agora fazer a busca pelo valor do índice:\n",
        "df2.loc['Lisandro Zambenedetti Granville'].head()"
      ],
      "execution_count": null,
      "outputs": []
    },
    {
      "cell_type": "markdown",
      "metadata": {
        "id": "7YJcN0Be3N_D"
      },
      "source": [
        "**Os resultados também são classes que possuem atributos e métodos**:\n",
        "\n"
      ]
    },
    {
      "cell_type": "code",
      "metadata": {
        "id": "hihRyOZu3PX5",
        "outputId": "f25a09b3-838a-4317-fe1e-19522f3cdcff",
        "colab": {
          "base_uri": "https://localhost:8080/",
          "height": 34
        }
      },
      "source": [
        "\n",
        "df['Ano'].count() # Series.count()"
      ],
      "execution_count": null,
      "outputs": [
        {
          "output_type": "execute_result",
          "data": {
            "text/plain": [
              "2124"
            ]
          },
          "metadata": {
            "tags": []
          },
          "execution_count": 41
        }
      ]
    },
    {
      "cell_type": "code",
      "metadata": {
        "id": "SrftNgXT3Rg1",
        "outputId": "cd233069-0c38-4653-8d77-cd89e171ddc8",
        "colab": {
          "base_uri": "https://localhost:8080/",
          "height": 51
        }
      },
      "source": [
        "df[['Ano']].count() # Dataframe.count()\n"
      ],
      "execution_count": null,
      "outputs": [
        {
          "output_type": "execute_result",
          "data": {
            "text/plain": [
              "Ano    2124\n",
              "dtype: int64"
            ]
          },
          "metadata": {
            "tags": []
          },
          "execution_count": 42
        }
      ]
    },
    {
      "cell_type": "markdown",
      "metadata": {
        "id": "URAE5R3Q3T4E"
      },
      "source": [
        "Você pode agrupar os resultados:\n",
        "\n"
      ]
    },
    {
      "cell_type": "code",
      "metadata": {
        "id": "7ODYOoww3VAw"
      },
      "source": [
        "resultado = df.groupby('Ano') # agrupa por ano\n"
      ],
      "execution_count": null,
      "outputs": []
    },
    {
      "cell_type": "code",
      "metadata": {
        "id": "S38LmgW-3WH6",
        "outputId": "06a83c07-59a2-40df-8e97-bbce6aeedd7f",
        "colab": {
          "base_uri": "https://localhost:8080/",
          "height": 34
        }
      },
      "source": [
        "type(resultado) # veja que o tipo é diferente (do resultado do grupo)\n"
      ],
      "execution_count": null,
      "outputs": [
        {
          "output_type": "execute_result",
          "data": {
            "text/plain": [
              "pandas.core.groupby.generic.DataFrameGroupBy"
            ]
          },
          "metadata": {
            "tags": []
          },
          "execution_count": 44
        }
      ]
    },
    {
      "cell_type": "code",
      "metadata": {
        "id": "p6nEfqwX3XEV",
        "outputId": "377b22d2-3d88-4dad-b7a9-7cf1730d3ea5",
        "colab": {
          "base_uri": "https://localhost:8080/",
          "height": 204
        }
      },
      "source": [
        "resultado.count()\n"
      ],
      "execution_count": null,
      "outputs": [
        {
          "output_type": "execute_result",
          "data": {
            "text/html": [
              "<div>\n",
              "<style scoped>\n",
              "    .dataframe tbody tr th:only-of-type {\n",
              "        vertical-align: middle;\n",
              "    }\n",
              "\n",
              "    .dataframe tbody tr th {\n",
              "        vertical-align: top;\n",
              "    }\n",
              "\n",
              "    .dataframe thead th {\n",
              "        text-align: right;\n",
              "    }\n",
              "</style>\n",
              "<table border=\"1\" class=\"dataframe\">\n",
              "  <thead>\n",
              "    <tr style=\"text-align: right;\">\n",
              "      <th></th>\n",
              "      <th>Tipo</th>\n",
              "      <th>Qualis</th>\n",
              "      <th>Autor Principal</th>\n",
              "      <th>Tφtulo do Artigo</th>\n",
              "      <th>Peri≤dico/Evento</th>\n",
              "      <th>Aut.Total</th>\n",
              "      <th>Aut.Prof</th>\n",
              "      <th>Aut.Dout</th>\n",
              "      <th>Aut.Mestr</th>\n",
              "      <th>Aut.Grad</th>\n",
              "      <th>Autores - Nomes</th>\n",
              "      <th>PPGC</th>\n",
              "    </tr>\n",
              "    <tr>\n",
              "      <th>Ano</th>\n",
              "      <th></th>\n",
              "      <th></th>\n",
              "      <th></th>\n",
              "      <th></th>\n",
              "      <th></th>\n",
              "      <th></th>\n",
              "      <th></th>\n",
              "      <th></th>\n",
              "      <th></th>\n",
              "      <th></th>\n",
              "      <th></th>\n",
              "      <th></th>\n",
              "    </tr>\n",
              "  </thead>\n",
              "  <tbody>\n",
              "    <tr>\n",
              "      <th>2013</th>\n",
              "      <td>662</td>\n",
              "      <td>662</td>\n",
              "      <td>662</td>\n",
              "      <td>662</td>\n",
              "      <td>662</td>\n",
              "      <td>662</td>\n",
              "      <td>662</td>\n",
              "      <td>662</td>\n",
              "      <td>662</td>\n",
              "      <td>662</td>\n",
              "      <td>662</td>\n",
              "      <td>662</td>\n",
              "    </tr>\n",
              "    <tr>\n",
              "      <th>2014</th>\n",
              "      <td>652</td>\n",
              "      <td>652</td>\n",
              "      <td>652</td>\n",
              "      <td>652</td>\n",
              "      <td>652</td>\n",
              "      <td>652</td>\n",
              "      <td>652</td>\n",
              "      <td>652</td>\n",
              "      <td>652</td>\n",
              "      <td>652</td>\n",
              "      <td>652</td>\n",
              "      <td>652</td>\n",
              "    </tr>\n",
              "    <tr>\n",
              "      <th>2015</th>\n",
              "      <td>449</td>\n",
              "      <td>449</td>\n",
              "      <td>449</td>\n",
              "      <td>449</td>\n",
              "      <td>449</td>\n",
              "      <td>449</td>\n",
              "      <td>449</td>\n",
              "      <td>449</td>\n",
              "      <td>449</td>\n",
              "      <td>449</td>\n",
              "      <td>449</td>\n",
              "      <td>449</td>\n",
              "    </tr>\n",
              "    <tr>\n",
              "      <th>2016</th>\n",
              "      <td>361</td>\n",
              "      <td>361</td>\n",
              "      <td>361</td>\n",
              "      <td>361</td>\n",
              "      <td>361</td>\n",
              "      <td>361</td>\n",
              "      <td>361</td>\n",
              "      <td>361</td>\n",
              "      <td>361</td>\n",
              "      <td>361</td>\n",
              "      <td>361</td>\n",
              "      <td>361</td>\n",
              "    </tr>\n",
              "  </tbody>\n",
              "</table>\n",
              "</div>"
            ],
            "text/plain": [
              "      Tipo  Qualis  Autor Principal  ...  Aut.Grad  Autores - Nomes  PPGC\n",
              "Ano                                  ...                                 \n",
              "2013   662     662              662  ...       662              662   662\n",
              "2014   652     652              652  ...       652              652   652\n",
              "2015   449     449              449  ...       449              449   449\n",
              "2016   361     361              361  ...       361              361   361\n",
              "\n",
              "[4 rows x 12 columns]"
            ]
          },
          "metadata": {
            "tags": []
          },
          "execution_count": 45
        }
      ]
    },
    {
      "cell_type": "code",
      "metadata": {
        "id": "aT7yMkB03YRd",
        "outputId": "610892a0-a0ec-4f19-bb16-ae4c441897dd",
        "colab": {
          "base_uri": "https://localhost:8080/",
          "height": 204
        }
      },
      "source": [
        "resultado.count()[['Tipo']]\n"
      ],
      "execution_count": null,
      "outputs": [
        {
          "output_type": "execute_result",
          "data": {
            "text/html": [
              "<div>\n",
              "<style scoped>\n",
              "    .dataframe tbody tr th:only-of-type {\n",
              "        vertical-align: middle;\n",
              "    }\n",
              "\n",
              "    .dataframe tbody tr th {\n",
              "        vertical-align: top;\n",
              "    }\n",
              "\n",
              "    .dataframe thead th {\n",
              "        text-align: right;\n",
              "    }\n",
              "</style>\n",
              "<table border=\"1\" class=\"dataframe\">\n",
              "  <thead>\n",
              "    <tr style=\"text-align: right;\">\n",
              "      <th></th>\n",
              "      <th>Tipo</th>\n",
              "    </tr>\n",
              "    <tr>\n",
              "      <th>Ano</th>\n",
              "      <th></th>\n",
              "    </tr>\n",
              "  </thead>\n",
              "  <tbody>\n",
              "    <tr>\n",
              "      <th>2013</th>\n",
              "      <td>662</td>\n",
              "    </tr>\n",
              "    <tr>\n",
              "      <th>2014</th>\n",
              "      <td>652</td>\n",
              "    </tr>\n",
              "    <tr>\n",
              "      <th>2015</th>\n",
              "      <td>449</td>\n",
              "    </tr>\n",
              "    <tr>\n",
              "      <th>2016</th>\n",
              "      <td>361</td>\n",
              "    </tr>\n",
              "  </tbody>\n",
              "</table>\n",
              "</div>"
            ],
            "text/plain": [
              "      Tipo\n",
              "Ano       \n",
              "2013   662\n",
              "2014   652\n",
              "2015   449\n",
              "2016   361"
            ]
          },
          "metadata": {
            "tags": []
          },
          "execution_count": 46
        }
      ]
    },
    {
      "cell_type": "code",
      "metadata": {
        "id": "MuEm3Lmz3ZS8",
        "outputId": "0456c4e8-d45b-4f3c-aa09-666e183081bb",
        "colab": {
          "base_uri": "https://localhost:8080/",
          "height": 328
        }
      },
      "source": [
        "df.groupby(['Ano', 'Tipo'])[['Qualis']].count()\n"
      ],
      "execution_count": null,
      "outputs": [
        {
          "output_type": "execute_result",
          "data": {
            "text/html": [
              "<div>\n",
              "<style scoped>\n",
              "    .dataframe tbody tr th:only-of-type {\n",
              "        vertical-align: middle;\n",
              "    }\n",
              "\n",
              "    .dataframe tbody tr th {\n",
              "        vertical-align: top;\n",
              "    }\n",
              "\n",
              "    .dataframe thead th {\n",
              "        text-align: right;\n",
              "    }\n",
              "</style>\n",
              "<table border=\"1\" class=\"dataframe\">\n",
              "  <thead>\n",
              "    <tr style=\"text-align: right;\">\n",
              "      <th></th>\n",
              "      <th></th>\n",
              "      <th>Qualis</th>\n",
              "    </tr>\n",
              "    <tr>\n",
              "      <th>Ano</th>\n",
              "      <th>Tipo</th>\n",
              "      <th></th>\n",
              "    </tr>\n",
              "  </thead>\n",
              "  <tbody>\n",
              "    <tr>\n",
              "      <th rowspan=\"2\" valign=\"top\">2013</th>\n",
              "      <th>ConferΩncia</th>\n",
              "      <td>512</td>\n",
              "    </tr>\n",
              "    <tr>\n",
              "      <th>Peri≤dico</th>\n",
              "      <td>150</td>\n",
              "    </tr>\n",
              "    <tr>\n",
              "      <th rowspan=\"2\" valign=\"top\">2014</th>\n",
              "      <th>ConferΩncia</th>\n",
              "      <td>504</td>\n",
              "    </tr>\n",
              "    <tr>\n",
              "      <th>Peri≤dico</th>\n",
              "      <td>148</td>\n",
              "    </tr>\n",
              "    <tr>\n",
              "      <th rowspan=\"2\" valign=\"top\">2015</th>\n",
              "      <th>ConferΩncia</th>\n",
              "      <td>343</td>\n",
              "    </tr>\n",
              "    <tr>\n",
              "      <th>Peri≤dico</th>\n",
              "      <td>106</td>\n",
              "    </tr>\n",
              "    <tr>\n",
              "      <th rowspan=\"2\" valign=\"top\">2016</th>\n",
              "      <th>ConferΩncia</th>\n",
              "      <td>248</td>\n",
              "    </tr>\n",
              "    <tr>\n",
              "      <th>Peri≤dico</th>\n",
              "      <td>113</td>\n",
              "    </tr>\n",
              "  </tbody>\n",
              "</table>\n",
              "</div>"
            ],
            "text/plain": [
              "                  Qualis\n",
              "Ano  Tipo               \n",
              "2013 ConferΩncia     512\n",
              "     Peri≤dico       150\n",
              "2014 ConferΩncia     504\n",
              "     Peri≤dico       148\n",
              "2015 ConferΩncia     343\n",
              "     Peri≤dico       106\n",
              "2016 ConferΩncia     248\n",
              "     Peri≤dico       113"
            ]
          },
          "metadata": {
            "tags": []
          },
          "execution_count": 47
        }
      ]
    },
    {
      "cell_type": "code",
      "metadata": {
        "id": "73tzotNh3aM6"
      },
      "source": [
        "prodPPGCByTipoporAno = df.groupby(['Ano','Tipo'])\n"
      ],
      "execution_count": null,
      "outputs": []
    },
    {
      "cell_type": "code",
      "metadata": {
        "id": "NAe52yFb3bCF",
        "outputId": "63d943c0-ae9c-4ce4-f9bf-e47722f0d989",
        "colab": {
          "base_uri": "https://localhost:8080/",
          "height": 187
        }
      },
      "source": [
        "prodPPGCByTipoporAno.size()\n"
      ],
      "execution_count": null,
      "outputs": [
        {
          "output_type": "execute_result",
          "data": {
            "text/plain": [
              "Ano   Tipo       \n",
              "2013  ConferΩncia    512\n",
              "      Peri≤dico      150\n",
              "2014  ConferΩncia    504\n",
              "      Peri≤dico      148\n",
              "2015  ConferΩncia    343\n",
              "      Peri≤dico      106\n",
              "2016  ConferΩncia    248\n",
              "      Peri≤dico      113\n",
              "dtype: int64"
            ]
          },
          "metadata": {
            "tags": []
          },
          "execution_count": 49
        }
      ]
    },
    {
      "cell_type": "code",
      "metadata": {
        "id": "-ExQ_ZTb3k7O",
        "outputId": "06a1afa0-9fa3-47f2-b7fd-d6127beb9289",
        "colab": {
          "base_uri": "https://localhost:8080/",
          "height": 204
        }
      },
      "source": [
        "# desempilha os grupos:\n",
        "prodPPGCByTipoporAno.size().unstack()"
      ],
      "execution_count": null,
      "outputs": [
        {
          "output_type": "execute_result",
          "data": {
            "text/html": [
              "<div>\n",
              "<style scoped>\n",
              "    .dataframe tbody tr th:only-of-type {\n",
              "        vertical-align: middle;\n",
              "    }\n",
              "\n",
              "    .dataframe tbody tr th {\n",
              "        vertical-align: top;\n",
              "    }\n",
              "\n",
              "    .dataframe thead th {\n",
              "        text-align: right;\n",
              "    }\n",
              "</style>\n",
              "<table border=\"1\" class=\"dataframe\">\n",
              "  <thead>\n",
              "    <tr style=\"text-align: right;\">\n",
              "      <th>Tipo</th>\n",
              "      <th>ConferΩncia</th>\n",
              "      <th>Peri≤dico</th>\n",
              "    </tr>\n",
              "    <tr>\n",
              "      <th>Ano</th>\n",
              "      <th></th>\n",
              "      <th></th>\n",
              "    </tr>\n",
              "  </thead>\n",
              "  <tbody>\n",
              "    <tr>\n",
              "      <th>2013</th>\n",
              "      <td>512</td>\n",
              "      <td>150</td>\n",
              "    </tr>\n",
              "    <tr>\n",
              "      <th>2014</th>\n",
              "      <td>504</td>\n",
              "      <td>148</td>\n",
              "    </tr>\n",
              "    <tr>\n",
              "      <th>2015</th>\n",
              "      <td>343</td>\n",
              "      <td>106</td>\n",
              "    </tr>\n",
              "    <tr>\n",
              "      <th>2016</th>\n",
              "      <td>248</td>\n",
              "      <td>113</td>\n",
              "    </tr>\n",
              "  </tbody>\n",
              "</table>\n",
              "</div>"
            ],
            "text/plain": [
              "Tipo  ConferΩncia  Peri≤dico\n",
              "Ano                         \n",
              "2013          512        150\n",
              "2014          504        148\n",
              "2015          343        106\n",
              "2016          248        113"
            ]
          },
          "metadata": {
            "tags": []
          },
          "execution_count": 50
        }
      ]
    },
    {
      "cell_type": "code",
      "metadata": {
        "id": "gnMhTawy3m_g",
        "outputId": "fef2f7ff-657b-43e7-edda-500117631cab",
        "colab": {
          "base_uri": "https://localhost:8080/",
          "height": 312
        }
      },
      "source": [
        "\n",
        "%matplotlib inline\n",
        "\n",
        "prodPPGCByTipoporAno.size().unstack().plot.bar()"
      ],
      "execution_count": null,
      "outputs": [
        {
          "output_type": "execute_result",
          "data": {
            "text/plain": [
              "<matplotlib.axes._subplots.AxesSubplot at 0x7f8d52427e48>"
            ]
          },
          "metadata": {
            "tags": []
          },
          "execution_count": 51
        },
        {
          "output_type": "display_data",
          "data": {
            "image/png": "[encoded data removed]",
            "text/plain": [
              "<Figure size 432x288 with 1 Axes>"
            ]
          },
          "metadata": {
            "tags": [],
            "needs_background": "light"
          }
        }
      ]
    },
    {
      "cell_type": "code",
      "metadata": {
        "id": "7gVA8oLX3oY7",
        "outputId": "fbfc327c-47bf-47f3-9525-1149636642a2",
        "colab": {
          "base_uri": "https://localhost:8080/",
          "height": 312
        }
      },
      "source": [
        "prodPPGCByTipoporAno.size().unstack().plot.bar(stacked=True)\n"
      ],
      "execution_count": null,
      "outputs": [
        {
          "output_type": "execute_result",
          "data": {
            "text/plain": [
              "<matplotlib.axes._subplots.AxesSubplot at 0x7f8d50f99240>"
            ]
          },
          "metadata": {
            "tags": []
          },
          "execution_count": 52
        },
        {
          "output_type": "display_data",
          "data": {
            "image/png": "[encoded data removed]",
            "text/plain": [
              "<Figure size 432x288 with 1 Axes>"
            ]
          },
          "metadata": {
            "tags": [],
            "needs_background": "light"
          }
        }
      ]
    }
  ]
}